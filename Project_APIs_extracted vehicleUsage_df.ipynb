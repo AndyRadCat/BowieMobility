{
 "cells": [
  {
   "cell_type": "code",
   "execution_count": 1,
   "metadata": {},
   "outputs": [
    {
     "name": "stderr",
     "output_type": "stream",
     "text": [
      "\n",
      "Bad key \"text.kerning_factor\" on line 4 in\n",
      "C:\\Users\\Andy\\anaconda3\\lib\\site-packages\\matplotlib\\mpl-data\\stylelib\\_classic_test_patch.mplstyle.\n",
      "You probably need to get an updated matplotlibrc file from\n",
      "https://github.com/matplotlib/matplotlib/blob/v3.1.3/matplotlibrc.template\n",
      "or from the matplotlib source distribution\n"
     ]
    }
   ],
   "source": [
    "import pandas as pd\n",
    "import requests\n",
    "import json\n",
    "import matplotlib\n",
    "import matplotlib.pyplot as plt\n",
    "%matplotlib inline"
   ]
  },
  {
   "cell_type": "markdown",
   "metadata": {},
   "source": [
    "## Attempt to dataframe the \"stations\" API\n",
    "# Only retreiving stations' connectors info; API set-up troublesome"
   ]
  },
  {
   "cell_type": "code",
   "execution_count": 2,
   "metadata": {},
   "outputs": [
    {
     "data": {
      "text/plain": [
       "[{'connectors': [{'id': 8757,\n",
       "    'apiIdentifier': '+49*809*010*151178',\n",
       "    'speed': 22,\n",
       "    'powerType': 'AC3'},\n",
       "   {'id': 8758,\n",
       "    'apiIdentifier': '+49*809*010*151177',\n",
       "    'speed': 22,\n",
       "    'powerType': 'AC3'},\n",
       "   {'id': 103914,\n",
       "    'apiIdentifier': '+49*809*010*151178',\n",
       "    'speed': 7.4,\n",
       "    'powerType': 'AC1'}],\n",
       "  'utilization': 51,\n",
       "  'id': 1244,\n",
       "  'provider': {},\n",
       "  'deletedAt': None,\n",
       "  'latitude': 51.263405,\n",
       "  'longitude': 6.551713},\n",
       " {'connectors': [{'id': 10934,\n",
       "    'apiIdentifier': '+49*809*010*150759',\n",
       "    'speed': 22,\n",
       "    'powerType': 'AC3'},\n",
       "   {'id': 10935,\n",
       "    'apiIdentifier': '+49*809*010*150760',\n",
       "    'speed': 22,\n",
       "    'powerType': 'AC3'}],\n",
       "  'utilization': 7,\n",
       "  'id': 1318,\n",
       "  'provider': {},\n",
       "  'deletedAt': None,\n",
       "  'latitude': 50.196799,\n",
       "  'longitude': 6.82781},\n",
       " {'connectors': [{'id': 10465,\n",
       "    'apiIdentifier': '+49*809*010*151307',\n",
       "    'speed': 22,\n",
       "    'powerType': 'AC3'},\n",
       "   {'id': 10466,\n",
       "    'apiIdentifier': '+49*809*010*151308',\n",
       "    'speed': 22,\n",
       "    'powerType': 'AC3'}],\n",
       "  'utilization': 3,\n",
       "  'id': 1325,\n",
       "  'provider': {},\n",
       "  'deletedAt': None,\n",
       "  'latitude': 51.922328,\n",
       "  'longitude': 7.67395},\n",
       " {'connectors': [{'id': 185134,\n",
       "    'apiIdentifier': '+49*809*010*151542',\n",
       "    'speed': 22,\n",
       "    'powerType': 'AC3'},\n",
       "   {'id': 185136,\n",
       "    'apiIdentifier': '+49*809*010*151541',\n",
       "    'speed': 22,\n",
       "    'powerType': 'AC3'}],\n",
       "  'utilization': 12,\n",
       "  'id': 1332,\n",
       "  'provider': {},\n",
       "  'deletedAt': None,\n",
       "  'latitude': 51.468056,\n",
       "  'longitude': 7.270833},\n",
       " {'connectors': [{'id': 10940,\n",
       "    'apiIdentifier': '+49*809*010*150703',\n",
       "    'speed': 22,\n",
       "    'powerType': 'AC3'},\n",
       "   {'id': 10941,\n",
       "    'apiIdentifier': '+49*809*010*150704',\n",
       "    'speed': 22,\n",
       "    'powerType': 'AC3'},\n",
       "   {'id': 103830,\n",
       "    'apiIdentifier': '+49*809*010*150703',\n",
       "    'speed': 7.4,\n",
       "    'powerType': 'AC1'}],\n",
       "  'utilization': 19,\n",
       "  'id': 1333,\n",
       "  'provider': {},\n",
       "  'deletedAt': None,\n",
       "  'latitude': 51.465856,\n",
       "  'longitude': 7.012906}]"
      ]
     },
     "execution_count": 2,
     "metadata": {},
     "output_type": "execute_result"
    }
   ],
   "source": [
    "response = requests.get(\"https://api.plugsurfing.com/mfund/stations\")\n",
    "results=response.json()\n",
    "results"
   ]
  },
  {
   "cell_type": "code",
   "execution_count": 3,
   "metadata": {},
   "outputs": [],
   "source": [
    "data = pd.DataFrame(results)"
   ]
  },
  {
   "cell_type": "code",
   "execution_count": 4,
   "metadata": {},
   "outputs": [
    {
     "data": {
      "text/html": [
       "<div>\n",
       "<style scoped>\n",
       "    .dataframe tbody tr th:only-of-type {\n",
       "        vertical-align: middle;\n",
       "    }\n",
       "\n",
       "    .dataframe tbody tr th {\n",
       "        vertical-align: top;\n",
       "    }\n",
       "\n",
       "    .dataframe thead th {\n",
       "        text-align: right;\n",
       "    }\n",
       "</style>\n",
       "<table border=\"1\" class=\"dataframe\">\n",
       "  <thead>\n",
       "    <tr style=\"text-align: right;\">\n",
       "      <th></th>\n",
       "      <th>connectors</th>\n",
       "      <th>utilization</th>\n",
       "      <th>id</th>\n",
       "      <th>provider</th>\n",
       "      <th>deletedAt</th>\n",
       "      <th>latitude</th>\n",
       "      <th>longitude</th>\n",
       "    </tr>\n",
       "  </thead>\n",
       "  <tbody>\n",
       "    <tr>\n",
       "      <th>0</th>\n",
       "      <td>[{'id': 8757, 'apiIdentifier': '+49*809*010*15...</td>\n",
       "      <td>51</td>\n",
       "      <td>1244</td>\n",
       "      <td>{}</td>\n",
       "      <td>None</td>\n",
       "      <td>51.263405</td>\n",
       "      <td>6.551713</td>\n",
       "    </tr>\n",
       "    <tr>\n",
       "      <th>1</th>\n",
       "      <td>[{'id': 10934, 'apiIdentifier': '+49*809*010*1...</td>\n",
       "      <td>7</td>\n",
       "      <td>1318</td>\n",
       "      <td>{}</td>\n",
       "      <td>None</td>\n",
       "      <td>50.196799</td>\n",
       "      <td>6.827810</td>\n",
       "    </tr>\n",
       "    <tr>\n",
       "      <th>2</th>\n",
       "      <td>[{'id': 10465, 'apiIdentifier': '+49*809*010*1...</td>\n",
       "      <td>3</td>\n",
       "      <td>1325</td>\n",
       "      <td>{}</td>\n",
       "      <td>None</td>\n",
       "      <td>51.922328</td>\n",
       "      <td>7.673950</td>\n",
       "    </tr>\n",
       "    <tr>\n",
       "      <th>3</th>\n",
       "      <td>[{'id': 185134, 'apiIdentifier': '+49*809*010*...</td>\n",
       "      <td>12</td>\n",
       "      <td>1332</td>\n",
       "      <td>{}</td>\n",
       "      <td>None</td>\n",
       "      <td>51.468056</td>\n",
       "      <td>7.270833</td>\n",
       "    </tr>\n",
       "    <tr>\n",
       "      <th>4</th>\n",
       "      <td>[{'id': 10940, 'apiIdentifier': '+49*809*010*1...</td>\n",
       "      <td>19</td>\n",
       "      <td>1333</td>\n",
       "      <td>{}</td>\n",
       "      <td>None</td>\n",
       "      <td>51.465856</td>\n",
       "      <td>7.012906</td>\n",
       "    </tr>\n",
       "  </tbody>\n",
       "</table>\n",
       "</div>"
      ],
      "text/plain": [
       "                                          connectors  utilization    id  \\\n",
       "0  [{'id': 8757, 'apiIdentifier': '+49*809*010*15...           51  1244   \n",
       "1  [{'id': 10934, 'apiIdentifier': '+49*809*010*1...            7  1318   \n",
       "2  [{'id': 10465, 'apiIdentifier': '+49*809*010*1...            3  1325   \n",
       "3  [{'id': 185134, 'apiIdentifier': '+49*809*010*...           12  1332   \n",
       "4  [{'id': 10940, 'apiIdentifier': '+49*809*010*1...           19  1333   \n",
       "\n",
       "  provider deletedAt   latitude  longitude  \n",
       "0       {}      None  51.263405   6.551713  \n",
       "1       {}      None  50.196799   6.827810  \n",
       "2       {}      None  51.922328   7.673950  \n",
       "3       {}      None  51.468056   7.270833  \n",
       "4       {}      None  51.465856   7.012906  "
      ]
     },
     "execution_count": 4,
     "metadata": {},
     "output_type": "execute_result"
    }
   ],
   "source": [
    "data.head()"
   ]
  },
  {
   "cell_type": "code",
   "execution_count": 5,
   "metadata": {},
   "outputs": [],
   "source": [
    "connectors_into_df = pd.concat([pd.DataFrame(x) for x in data['connectors']], keys=data[:]).reset_index(level=1, drop=True).reset_index()"
   ]
  },
  {
   "cell_type": "code",
   "execution_count": 6,
   "metadata": {},
   "outputs": [
    {
     "data": {
      "text/html": [
       "<div>\n",
       "<style scoped>\n",
       "    .dataframe tbody tr th:only-of-type {\n",
       "        vertical-align: middle;\n",
       "    }\n",
       "\n",
       "    .dataframe tbody tr th {\n",
       "        vertical-align: top;\n",
       "    }\n",
       "\n",
       "    .dataframe thead th {\n",
       "        text-align: right;\n",
       "    }\n",
       "</style>\n",
       "<table border=\"1\" class=\"dataframe\">\n",
       "  <thead>\n",
       "    <tr style=\"text-align: right;\">\n",
       "      <th></th>\n",
       "      <th>index</th>\n",
       "      <th>id</th>\n",
       "      <th>apiIdentifier</th>\n",
       "      <th>speed</th>\n",
       "      <th>powerType</th>\n",
       "    </tr>\n",
       "  </thead>\n",
       "  <tbody>\n",
       "    <tr>\n",
       "      <th>0</th>\n",
       "      <td>connectors</td>\n",
       "      <td>8757</td>\n",
       "      <td>+49*809*010*151178</td>\n",
       "      <td>22.0</td>\n",
       "      <td>AC3</td>\n",
       "    </tr>\n",
       "    <tr>\n",
       "      <th>1</th>\n",
       "      <td>connectors</td>\n",
       "      <td>8758</td>\n",
       "      <td>+49*809*010*151177</td>\n",
       "      <td>22.0</td>\n",
       "      <td>AC3</td>\n",
       "    </tr>\n",
       "    <tr>\n",
       "      <th>2</th>\n",
       "      <td>connectors</td>\n",
       "      <td>103914</td>\n",
       "      <td>+49*809*010*151178</td>\n",
       "      <td>7.4</td>\n",
       "      <td>AC1</td>\n",
       "    </tr>\n",
       "    <tr>\n",
       "      <th>3</th>\n",
       "      <td>utilization</td>\n",
       "      <td>10934</td>\n",
       "      <td>+49*809*010*150759</td>\n",
       "      <td>22.0</td>\n",
       "      <td>AC3</td>\n",
       "    </tr>\n",
       "    <tr>\n",
       "      <th>4</th>\n",
       "      <td>utilization</td>\n",
       "      <td>10935</td>\n",
       "      <td>+49*809*010*150760</td>\n",
       "      <td>22.0</td>\n",
       "      <td>AC3</td>\n",
       "    </tr>\n",
       "    <tr>\n",
       "      <th>5</th>\n",
       "      <td>id</td>\n",
       "      <td>10465</td>\n",
       "      <td>+49*809*010*151307</td>\n",
       "      <td>22.0</td>\n",
       "      <td>AC3</td>\n",
       "    </tr>\n",
       "    <tr>\n",
       "      <th>6</th>\n",
       "      <td>id</td>\n",
       "      <td>10466</td>\n",
       "      <td>+49*809*010*151308</td>\n",
       "      <td>22.0</td>\n",
       "      <td>AC3</td>\n",
       "    </tr>\n",
       "    <tr>\n",
       "      <th>7</th>\n",
       "      <td>provider</td>\n",
       "      <td>185134</td>\n",
       "      <td>+49*809*010*151542</td>\n",
       "      <td>22.0</td>\n",
       "      <td>AC3</td>\n",
       "    </tr>\n",
       "    <tr>\n",
       "      <th>8</th>\n",
       "      <td>provider</td>\n",
       "      <td>185136</td>\n",
       "      <td>+49*809*010*151541</td>\n",
       "      <td>22.0</td>\n",
       "      <td>AC3</td>\n",
       "    </tr>\n",
       "    <tr>\n",
       "      <th>9</th>\n",
       "      <td>deletedAt</td>\n",
       "      <td>10940</td>\n",
       "      <td>+49*809*010*150703</td>\n",
       "      <td>22.0</td>\n",
       "      <td>AC3</td>\n",
       "    </tr>\n",
       "    <tr>\n",
       "      <th>10</th>\n",
       "      <td>deletedAt</td>\n",
       "      <td>10941</td>\n",
       "      <td>+49*809*010*150704</td>\n",
       "      <td>22.0</td>\n",
       "      <td>AC3</td>\n",
       "    </tr>\n",
       "    <tr>\n",
       "      <th>11</th>\n",
       "      <td>deletedAt</td>\n",
       "      <td>103830</td>\n",
       "      <td>+49*809*010*150703</td>\n",
       "      <td>7.4</td>\n",
       "      <td>AC1</td>\n",
       "    </tr>\n",
       "  </tbody>\n",
       "</table>\n",
       "</div>"
      ],
      "text/plain": [
       "          index      id       apiIdentifier  speed powerType\n",
       "0    connectors    8757  +49*809*010*151178   22.0       AC3\n",
       "1    connectors    8758  +49*809*010*151177   22.0       AC3\n",
       "2    connectors  103914  +49*809*010*151178    7.4       AC1\n",
       "3   utilization   10934  +49*809*010*150759   22.0       AC3\n",
       "4   utilization   10935  +49*809*010*150760   22.0       AC3\n",
       "5            id   10465  +49*809*010*151307   22.0       AC3\n",
       "6            id   10466  +49*809*010*151308   22.0       AC3\n",
       "7      provider  185134  +49*809*010*151542   22.0       AC3\n",
       "8      provider  185136  +49*809*010*151541   22.0       AC3\n",
       "9     deletedAt   10940  +49*809*010*150703   22.0       AC3\n",
       "10    deletedAt   10941  +49*809*010*150704   22.0       AC3\n",
       "11    deletedAt  103830  +49*809*010*150703    7.4       AC1"
      ]
     },
     "execution_count": 6,
     "metadata": {},
     "output_type": "execute_result"
    }
   ],
   "source": [
    "connectors_into_df"
   ]
  },
  {
   "cell_type": "code",
   "execution_count": 7,
   "metadata": {},
   "outputs": [
    {
     "data": {
      "text/plain": [
       "pandas.core.frame.DataFrame"
      ]
     },
     "execution_count": 7,
     "metadata": {},
     "output_type": "execute_result"
    }
   ],
   "source": [
    "type(connectors_into_df)"
   ]
  },
  {
   "cell_type": "code",
   "execution_count": 8,
   "metadata": {},
   "outputs": [],
   "source": [
    "connectors_list = connectors_into_df.values.tolist()"
   ]
  },
  {
   "cell_type": "code",
   "execution_count": 9,
   "metadata": {
    "scrolled": true
   },
   "outputs": [
    {
     "data": {
      "text/plain": [
       "[['connectors', 8757, '+49*809*010*151178', 22.0, 'AC3'],\n",
       " ['connectors', 8758, '+49*809*010*151177', 22.0, 'AC3'],\n",
       " ['connectors', 103914, '+49*809*010*151178', 7.4, 'AC1'],\n",
       " ['utilization', 10934, '+49*809*010*150759', 22.0, 'AC3'],\n",
       " ['utilization', 10935, '+49*809*010*150760', 22.0, 'AC3'],\n",
       " ['id', 10465, '+49*809*010*151307', 22.0, 'AC3'],\n",
       " ['id', 10466, '+49*809*010*151308', 22.0, 'AC3'],\n",
       " ['provider', 185134, '+49*809*010*151542', 22.0, 'AC3'],\n",
       " ['provider', 185136, '+49*809*010*151541', 22.0, 'AC3'],\n",
       " ['deletedAt', 10940, '+49*809*010*150703', 22.0, 'AC3'],\n",
       " ['deletedAt', 10941, '+49*809*010*150704', 22.0, 'AC3'],\n",
       " ['deletedAt', 103830, '+49*809*010*150703', 7.4, 'AC1']]"
      ]
     },
     "execution_count": 9,
     "metadata": {},
     "output_type": "execute_result"
    }
   ],
   "source": [
    "connectors_list"
   ]
  },
  {
   "cell_type": "code",
   "execution_count": 10,
   "metadata": {},
   "outputs": [
    {
     "data": {
      "text/plain": [
       "'[{\"connectors\": [{\"id\": 8757, \"apiIdentifier\": \"+49*809*010*151178\", \"speed\": 22, \"powerType\": \"AC3\"}, {\"id\": 8758, \"apiIdentifier\": \"+49*809*010*151177\", \"speed\": 22, \"powerType\": \"AC3\"}, {\"id\": 103914, \"apiIdentifier\": \"+49*809*010*151178\", \"speed\": 7.4, \"powerType\": \"AC1\"}], \"utilization\": 51, \"id\": 1244, \"provider\": {}, \"deletedAt\": null, \"latitude\": 51.263405, \"longitude\": 6.551713}, {\"connectors\": [{\"id\": 10934, \"apiIdentifier\": \"+49*809*010*150759\", \"speed\": 22, \"powerType\": \"AC3\"}, {\"id\": 10935, \"apiIdentifier\": \"+49*809*010*150760\", \"speed\": 22, \"powerType\": \"AC3\"}], \"utilization\": 7, \"id\": 1318, \"provider\": {}, \"deletedAt\": null, \"latitude\": 50.196799, \"longitude\": 6.82781}, {\"connectors\": [{\"id\": 10465, \"apiIdentifier\": \"+49*809*010*151307\", \"speed\": 22, \"powerType\": \"AC3\"}, {\"id\": 10466, \"apiIdentifier\": \"+49*809*010*151308\", \"speed\": 22, \"powerType\": \"AC3\"}], \"utilization\": 3, \"id\": 1325, \"provider\": {}, \"deletedAt\": null, \"latitude\": 51.922328, \"longitude\": 7.67395}, {\"connectors\": [{\"id\": 185134, \"apiIdentifier\": \"+49*809*010*151542\", \"speed\": 22, \"powerType\": \"AC3\"}, {\"id\": 185136, \"apiIdentifier\": \"+49*809*010*151541\", \"speed\": 22, \"powerType\": \"AC3\"}], \"utilization\": 12, \"id\": 1332, \"provider\": {}, \"deletedAt\": null, \"latitude\": 51.468056, \"longitude\": 7.270833}, {\"connectors\": [{\"id\": 10940, \"apiIdentifier\": \"+49*809*010*150703\", \"speed\": 22, \"powerType\": \"AC3\"}, {\"id\": 10941, \"apiIdentifier\": \"+49*809*010*150704\", \"speed\": 22, \"powerType\": \"AC3\"}, {\"id\": 103830, \"apiIdentifier\": \"+49*809*010*150703\", \"speed\": 7.4, \"powerType\": \"AC1\"}], \"utilization\": 19, \"id\": 1333, \"provider\": {}, \"deletedAt\": null, \"latitude\": 51.465856, \"longitude\": 7.012906}]'"
      ]
     },
     "execution_count": 10,
     "metadata": {},
     "output_type": "execute_result"
    }
   ],
   "source": [
    "json.dumps(results)"
   ]
  },
  {
   "cell_type": "code",
   "execution_count": 11,
   "metadata": {},
   "outputs": [
    {
     "data": {
      "text/plain": [
       "str"
      ]
     },
     "execution_count": 11,
     "metadata": {},
     "output_type": "execute_result"
    }
   ],
   "source": [
    "type(json.dumps(results))"
   ]
  },
  {
   "cell_type": "markdown",
   "metadata": {},
   "source": [
    "## Extracting 'vehicleUsage_df' from 'sessions' API "
   ]
  },
  {
   "cell_type": "code",
   "execution_count": 12,
   "metadata": {},
   "outputs": [
    {
     "data": {
      "text/plain": [
       "{'accessMedium': {'app': 16.68576292270927,\n",
       "  'chargingKey': 83.10799751203064,\n",
       "  'unknown': 0.20623956526009124},\n",
       " 'vehicleUsage': [{'name': 'unknown', 'percentage': 23.386911971715417},\n",
       "  {'name': 'Renault Kangoo', 'percentage': 0.12658089719666962},\n",
       "  {'name': 'Renault ZOE', 'percentage': 8.044726903698303},\n",
       "  {'name': 'Tesla Model S', 'percentage': 2.0747462181972893},\n",
       "  {'name': 'Smart ED4 Forfour', 'percentage': 0.7183664318571183},\n",
       "  {'name': 'Smart EQ Forfour', 'percentage': 0.10475660457655418},\n",
       "  {'name': 'BMW i3', 'percentage': 2.13181674339889},\n",
       "  {'name': 'Tesla Model 3', 'percentage': 4.83162203953113},\n",
       "  {'name': 'Hyundai Kona', 'percentage': 0.6320825321054477},\n",
       "  {'name': 'Smart ED4 Fortwo', 'percentage': 2.2528126057114126},\n",
       "  {'name': 'Audi A3', 'percentage': 0.5843454349035914},\n",
       "  {'name': 'Citroën Berlingo', 'percentage': 1.1632347966521535},\n",
       "  {'name': 'Jaguar I-PACE', 'percentage': 1.5203347846487907},\n",
       "  {'name': 'Audi e-Tron', 'percentage': 1.7738785041629832},\n",
       "  {'name': 'Audi Q7', 'percentage': 0.17732237753843802},\n",
       "  {'name': 'Mitsubishi Outlander', 'percentage': 0.9575408387075656},\n",
       "  {'name': 'Volkswagen Golf', 'percentage': 0.5928023482938861},\n",
       "  {'name': 'Nissan e-NV200', 'percentage': 0.4446699621348524},\n",
       "  {'name': 'Kia e-Niro', 'percentage': 0.4375536838626504},\n",
       "  {'name': 'Tesla Model X', 'percentage': 0.6916628509583629},\n",
       "  {'name': 'BMW 225xe', 'percentage': 0.7496644515009658},\n",
       "  {'name': 'Mercedes-Benz C Class', 'percentage': 0.8778821706441443},\n",
       "  {'name': 'Volvo V60', 'percentage': 0.700559793105706},\n",
       "  {'name': 'Honda e', 'percentage': 0.004364858524023091},\n",
       "  {'name': 'BMW 330e', 'percentage': 0.5199637716742507},\n",
       "  {'name': 'Fiat 500e', 'percentage': 0.050741480341768425},\n",
       "  {'name': 'Volkswagen e-Golf', 'percentage': 95.79131412994005},\n",
       "  {'name': 'Smart EQ Fortwo', 'percentage': 0.6541831712879609},\n",
       "  {'name': 'Nissan Leaf 40kWh / 62kWh', 'percentage': 1.0932879388046832},\n",
       "  {'name': 'Mercedes-Benz GLC', 'percentage': 0.22260778472517764},\n",
       "  {'name': 'Mercedes-Benz E Class', 'percentage': 1.350378105869643},\n",
       "  {'name': 'Nissan Leaf 24kWh / 30kWh', 'percentage': 1.4835261311183632},\n",
       "  {'name': 'Opel Ampera', 'percentage': 0.4127519341779336},\n",
       "  {'name': 'Chevrolet Volt', 'percentage': 0.011457753625560611},\n",
       "  {'name': 'Volkswagen Passat', 'percentage': 0.9051079756877383},\n",
       "  {'name': 'Hyundai IONIQ', 'percentage': 1.744217306465644},\n",
       "  {'name': 'Porsche Taycan', 'percentage': 0.42884734998526863},\n",
       "  {'name': 'Renault Twizy', 'percentage': 0.21551488962364007},\n",
       "  {'name': 'Mini Cooper S E', 'percentage': 0.24879693586931617},\n",
       "  {'name': 'Peugeot iOn', 'percentage': 0.14131229471524753},\n",
       "  {'name': 'Smart ED3', 'percentage': 0.7763992099606073},\n",
       "  {'name': 'Volvo XC60', 'percentage': 0.49432022784561513},\n",
       "  {'name': 'BMW X5', 'percentage': 0.6121714079942385},\n",
       "  {'name': 'Kia Niro', 'percentage': 0.39038203424231516},\n",
       "  {'name': 'Opel Corsa', 'percentage': 0.04010213768946214},\n",
       "  {'name': 'Porsche Panamera', 'percentage': 0.11675996551761768},\n",
       "  {'name': 'Porsche 918', 'percentage': 0.018550648727098135},\n",
       "  {'name': 'Porsche Cayenne', 'percentage': 0.06820091443786079},\n",
       "  {'name': 'BMW 530e', 'percentage': 1.4311279885640698},\n",
       "  {'name': 'Kia Soul EV', 'percentage': 0.11621435820211479},\n",
       "  {'name': 'MIA Electric', 'percentage': 0.042557370609225126},\n",
       "  {'name': 'BMW X3', 'percentage': 0.1620453727043572},\n",
       "  {'name': 'Kia Optima', 'percentage': 0.12685370085442108},\n",
       "  {'name': 'Volkswagen e-Up', 'percentage': 16.143503652096964},\n",
       "  {'name': 'Volvo XC40', 'percentage': 0.07529380953939831},\n",
       "  {'name': 'Mitsubishi i-MiEV', 'percentage': 0.0638360559138377},\n",
       "  {'name': 'Cadillac ELR', 'percentage': 0.019641863358103907},\n",
       "  {'name': 'Volvo XC90', 'percentage': 0.859331521917046},\n",
       "  {'name': 'Volvo S90/V90', 'percentage': 0.28153337479948937},\n",
       "  {'name': 'Mercedes-Benz GLE', 'percentage': 0.036010082823190494},\n",
       "  {'name': 'Mercedes-Benz EQC', 'percentage': 0.12112482404164074},\n",
       "  {'name': 'generic vehicle', 'percentage': 0.3033576674196048},\n",
       "  {'name': 'Toyota Prius', 'percentage': 0.24552329197629885},\n",
       "  {'name': 'Tesla Roadster', 'percentage': 0.09984613873702819},\n",
       "  {'name': 'Mercedes-Benz B Class', 'percentage': 0.08838838511146759},\n",
       "  {'name': 'Tesla Model Y', 'percentage': 0.007014951199322824},\n",
       "  {'name': 'Honda Accord', 'percentage': 0.019641863358103907},\n",
       "  {'name': 'BYD e6', 'percentage': 0.01745943409609236},\n",
       "  {'name': 'BMW ActiveE', 'percentage': 0.055433703255093246},\n",
       "  {'name': 'Kia e-Soul', 'percentage': 0.26320096899859236},\n",
       "  {'name': 'BMW i4', 'percentage': 0.01505876190787966},\n",
       "  {'name': 'BMW i8', 'percentage': 0.06689145688065386},\n",
       "  {'name': 'Mercedes-Benz A Class', 'percentage': 0.06874652175336367},\n",
       "  {'name': 'Renault Fluence', 'percentage': 0.011457753625560613},\n",
       "  {'name': 'Land Rover Range Rover', 'percentage': 0.12112482404164077},\n",
       "  {'name': 'Citroën C-Zero', 'percentage': 0.011457753625560613},\n",
       "  {'name': 'Polestar 2', 'percentage': 0.0019641863358103905},\n",
       "  {'name': 'Škoda Superb', 'percentage': 0.004910465839525977},\n",
       "  {'name': 'Peugeot e-2008', 'percentage': 0.00046766341328818823},\n",
       "  {'name': 'Peugeot e-208', 'percentage': 0.02665681455742673},\n",
       "  {'name': 'Opel Grandland X', 'percentage': 0.11294071430909745},\n",
       "  {'name': 'Mercedes-Benz S Class', 'percentage': 0.04255737060922513},\n",
       "  {'name': 'Ford C-Max', 'percentage': 0.010912146310057725},\n",
       "  {'name': 'Volkswagen ID.3', 'percentage': 0.12521687890791242},\n",
       "  {'name': 'BMW 740e', 'percentage': 0.023461114566624107},\n",
       "  {'name': 'Chrysler Pacifica', 'percentage': 0.0021824292620115453},\n",
       "  {'name': 'Mercedes-Benz SLS', 'percentage': 0.026189151144138542},\n",
       "  {'name': 'Škoda Citigo', 'percentage': 0.016368219465086587},\n",
       "  {'name': 'Kia XCeed', 'percentage': 0.0032736438930173178},\n",
       "  {'name': 'Opel Mokka-e', 'percentage': 0.004910465839525977}]}"
      ]
     },
     "execution_count": 12,
     "metadata": {},
     "output_type": "execute_result"
    }
   ],
   "source": [
    "response = requests.get(\"https://api.plugsurfing.com/mfund/sessions\")\n",
    "sessions_data=response.json()\n",
    "sessions_data"
   ]
  },
  {
   "cell_type": "code",
   "execution_count": 13,
   "metadata": {},
   "outputs": [
    {
     "data": {
      "text/plain": [
       "dict"
      ]
     },
     "execution_count": 13,
     "metadata": {},
     "output_type": "execute_result"
    }
   ],
   "source": [
    "type(sessions_data)"
   ]
  },
  {
   "cell_type": "code",
   "execution_count": 14,
   "metadata": {},
   "outputs": [
    {
     "data": {
      "text/plain": [
       "[{'name': 'unknown', 'percentage': 23.386911971715417},\n",
       " {'name': 'Renault Kangoo', 'percentage': 0.12658089719666962},\n",
       " {'name': 'Renault ZOE', 'percentage': 8.044726903698303},\n",
       " {'name': 'Tesla Model S', 'percentage': 2.0747462181972893},\n",
       " {'name': 'Smart ED4 Forfour', 'percentage': 0.7183664318571183},\n",
       " {'name': 'Smart EQ Forfour', 'percentage': 0.10475660457655418},\n",
       " {'name': 'BMW i3', 'percentage': 2.13181674339889},\n",
       " {'name': 'Tesla Model 3', 'percentage': 4.83162203953113},\n",
       " {'name': 'Hyundai Kona', 'percentage': 0.6320825321054477},\n",
       " {'name': 'Smart ED4 Fortwo', 'percentage': 2.2528126057114126},\n",
       " {'name': 'Audi A3', 'percentage': 0.5843454349035914},\n",
       " {'name': 'Citroën Berlingo', 'percentage': 1.1632347966521535},\n",
       " {'name': 'Jaguar I-PACE', 'percentage': 1.5203347846487907},\n",
       " {'name': 'Audi e-Tron', 'percentage': 1.7738785041629832},\n",
       " {'name': 'Audi Q7', 'percentage': 0.17732237753843802},\n",
       " {'name': 'Mitsubishi Outlander', 'percentage': 0.9575408387075656},\n",
       " {'name': 'Volkswagen Golf', 'percentage': 0.5928023482938861},\n",
       " {'name': 'Nissan e-NV200', 'percentage': 0.4446699621348524},\n",
       " {'name': 'Kia e-Niro', 'percentage': 0.4375536838626504},\n",
       " {'name': 'Tesla Model X', 'percentage': 0.6916628509583629},\n",
       " {'name': 'BMW 225xe', 'percentage': 0.7496644515009658},\n",
       " {'name': 'Mercedes-Benz C Class', 'percentage': 0.8778821706441443},\n",
       " {'name': 'Volvo V60', 'percentage': 0.700559793105706},\n",
       " {'name': 'Honda e', 'percentage': 0.004364858524023091},\n",
       " {'name': 'BMW 330e', 'percentage': 0.5199637716742507},\n",
       " {'name': 'Fiat 500e', 'percentage': 0.050741480341768425},\n",
       " {'name': 'Volkswagen e-Golf', 'percentage': 95.79131412994005},\n",
       " {'name': 'Smart EQ Fortwo', 'percentage': 0.6541831712879609},\n",
       " {'name': 'Nissan Leaf 40kWh / 62kWh', 'percentage': 1.0932879388046832},\n",
       " {'name': 'Mercedes-Benz GLC', 'percentage': 0.22260778472517764},\n",
       " {'name': 'Mercedes-Benz E Class', 'percentage': 1.350378105869643},\n",
       " {'name': 'Nissan Leaf 24kWh / 30kWh', 'percentage': 1.4835261311183632},\n",
       " {'name': 'Opel Ampera', 'percentage': 0.4127519341779336},\n",
       " {'name': 'Chevrolet Volt', 'percentage': 0.011457753625560611},\n",
       " {'name': 'Volkswagen Passat', 'percentage': 0.9051079756877383},\n",
       " {'name': 'Hyundai IONIQ', 'percentage': 1.744217306465644},\n",
       " {'name': 'Porsche Taycan', 'percentage': 0.42884734998526863},\n",
       " {'name': 'Renault Twizy', 'percentage': 0.21551488962364007},\n",
       " {'name': 'Mini Cooper S E', 'percentage': 0.24879693586931617},\n",
       " {'name': 'Peugeot iOn', 'percentage': 0.14131229471524753},\n",
       " {'name': 'Smart ED3', 'percentage': 0.7763992099606073},\n",
       " {'name': 'Volvo XC60', 'percentage': 0.49432022784561513},\n",
       " {'name': 'BMW X5', 'percentage': 0.6121714079942385},\n",
       " {'name': 'Kia Niro', 'percentage': 0.39038203424231516},\n",
       " {'name': 'Opel Corsa', 'percentage': 0.04010213768946214},\n",
       " {'name': 'Porsche Panamera', 'percentage': 0.11675996551761768},\n",
       " {'name': 'Porsche 918', 'percentage': 0.018550648727098135},\n",
       " {'name': 'Porsche Cayenne', 'percentage': 0.06820091443786079},\n",
       " {'name': 'BMW 530e', 'percentage': 1.4311279885640698},\n",
       " {'name': 'Kia Soul EV', 'percentage': 0.11621435820211479},\n",
       " {'name': 'MIA Electric', 'percentage': 0.042557370609225126},\n",
       " {'name': 'BMW X3', 'percentage': 0.1620453727043572},\n",
       " {'name': 'Kia Optima', 'percentage': 0.12685370085442108},\n",
       " {'name': 'Volkswagen e-Up', 'percentage': 16.143503652096964},\n",
       " {'name': 'Volvo XC40', 'percentage': 0.07529380953939831},\n",
       " {'name': 'Mitsubishi i-MiEV', 'percentage': 0.0638360559138377},\n",
       " {'name': 'Cadillac ELR', 'percentage': 0.019641863358103907},\n",
       " {'name': 'Volvo XC90', 'percentage': 0.859331521917046},\n",
       " {'name': 'Volvo S90/V90', 'percentage': 0.28153337479948937},\n",
       " {'name': 'Mercedes-Benz GLE', 'percentage': 0.036010082823190494},\n",
       " {'name': 'Mercedes-Benz EQC', 'percentage': 0.12112482404164074},\n",
       " {'name': 'generic vehicle', 'percentage': 0.3033576674196048},\n",
       " {'name': 'Toyota Prius', 'percentage': 0.24552329197629885},\n",
       " {'name': 'Tesla Roadster', 'percentage': 0.09984613873702819},\n",
       " {'name': 'Mercedes-Benz B Class', 'percentage': 0.08838838511146759},\n",
       " {'name': 'Tesla Model Y', 'percentage': 0.007014951199322824},\n",
       " {'name': 'Honda Accord', 'percentage': 0.019641863358103907},\n",
       " {'name': 'BYD e6', 'percentage': 0.01745943409609236},\n",
       " {'name': 'BMW ActiveE', 'percentage': 0.055433703255093246},\n",
       " {'name': 'Kia e-Soul', 'percentage': 0.26320096899859236},\n",
       " {'name': 'BMW i4', 'percentage': 0.01505876190787966},\n",
       " {'name': 'BMW i8', 'percentage': 0.06689145688065386},\n",
       " {'name': 'Mercedes-Benz A Class', 'percentage': 0.06874652175336367},\n",
       " {'name': 'Renault Fluence', 'percentage': 0.011457753625560613},\n",
       " {'name': 'Land Rover Range Rover', 'percentage': 0.12112482404164077},\n",
       " {'name': 'Citroën C-Zero', 'percentage': 0.011457753625560613},\n",
       " {'name': 'Polestar 2', 'percentage': 0.0019641863358103905},\n",
       " {'name': 'Škoda Superb', 'percentage': 0.004910465839525977},\n",
       " {'name': 'Peugeot e-2008', 'percentage': 0.00046766341328818823},\n",
       " {'name': 'Peugeot e-208', 'percentage': 0.02665681455742673},\n",
       " {'name': 'Opel Grandland X', 'percentage': 0.11294071430909745},\n",
       " {'name': 'Mercedes-Benz S Class', 'percentage': 0.04255737060922513},\n",
       " {'name': 'Ford C-Max', 'percentage': 0.010912146310057725},\n",
       " {'name': 'Volkswagen ID.3', 'percentage': 0.12521687890791242},\n",
       " {'name': 'BMW 740e', 'percentage': 0.023461114566624107},\n",
       " {'name': 'Chrysler Pacifica', 'percentage': 0.0021824292620115453},\n",
       " {'name': 'Mercedes-Benz SLS', 'percentage': 0.026189151144138542},\n",
       " {'name': 'Škoda Citigo', 'percentage': 0.016368219465086587},\n",
       " {'name': 'Kia XCeed', 'percentage': 0.0032736438930173178},\n",
       " {'name': 'Opel Mokka-e', 'percentage': 0.004910465839525977}]"
      ]
     },
     "execution_count": 14,
     "metadata": {},
     "output_type": "execute_result"
    }
   ],
   "source": [
    "vehicleUsage_dict = sessions_data['vehicleUsage']\n",
    "vehicleUsage_dict"
   ]
  },
  {
   "cell_type": "code",
   "execution_count": 15,
   "metadata": {},
   "outputs": [
    {
     "data": {
      "text/html": [
       "<div>\n",
       "<style scoped>\n",
       "    .dataframe tbody tr th:only-of-type {\n",
       "        vertical-align: middle;\n",
       "    }\n",
       "\n",
       "    .dataframe tbody tr th {\n",
       "        vertical-align: top;\n",
       "    }\n",
       "\n",
       "    .dataframe thead th {\n",
       "        text-align: right;\n",
       "    }\n",
       "</style>\n",
       "<table border=\"1\" class=\"dataframe\">\n",
       "  <thead>\n",
       "    <tr style=\"text-align: right;\">\n",
       "      <th></th>\n",
       "      <th>name</th>\n",
       "      <th>percentage</th>\n",
       "    </tr>\n",
       "  </thead>\n",
       "  <tbody>\n",
       "    <tr>\n",
       "      <th>0</th>\n",
       "      <td>unknown</td>\n",
       "      <td>23.386912</td>\n",
       "    </tr>\n",
       "    <tr>\n",
       "      <th>1</th>\n",
       "      <td>Renault Kangoo</td>\n",
       "      <td>0.126581</td>\n",
       "    </tr>\n",
       "    <tr>\n",
       "      <th>2</th>\n",
       "      <td>Renault ZOE</td>\n",
       "      <td>8.044727</td>\n",
       "    </tr>\n",
       "    <tr>\n",
       "      <th>3</th>\n",
       "      <td>Tesla Model S</td>\n",
       "      <td>2.074746</td>\n",
       "    </tr>\n",
       "    <tr>\n",
       "      <th>4</th>\n",
       "      <td>Smart ED4 Forfour</td>\n",
       "      <td>0.718366</td>\n",
       "    </tr>\n",
       "    <tr>\n",
       "      <th>...</th>\n",
       "      <td>...</td>\n",
       "      <td>...</td>\n",
       "    </tr>\n",
       "    <tr>\n",
       "      <th>85</th>\n",
       "      <td>Chrysler Pacifica</td>\n",
       "      <td>0.002182</td>\n",
       "    </tr>\n",
       "    <tr>\n",
       "      <th>86</th>\n",
       "      <td>Mercedes-Benz SLS</td>\n",
       "      <td>0.026189</td>\n",
       "    </tr>\n",
       "    <tr>\n",
       "      <th>87</th>\n",
       "      <td>Škoda Citigo</td>\n",
       "      <td>0.016368</td>\n",
       "    </tr>\n",
       "    <tr>\n",
       "      <th>88</th>\n",
       "      <td>Kia XCeed</td>\n",
       "      <td>0.003274</td>\n",
       "    </tr>\n",
       "    <tr>\n",
       "      <th>89</th>\n",
       "      <td>Opel Mokka-e</td>\n",
       "      <td>0.004910</td>\n",
       "    </tr>\n",
       "  </tbody>\n",
       "</table>\n",
       "<p>90 rows × 2 columns</p>\n",
       "</div>"
      ],
      "text/plain": [
       "                 name  percentage\n",
       "0             unknown   23.386912\n",
       "1      Renault Kangoo    0.126581\n",
       "2         Renault ZOE    8.044727\n",
       "3       Tesla Model S    2.074746\n",
       "4   Smart ED4 Forfour    0.718366\n",
       "..                ...         ...\n",
       "85  Chrysler Pacifica    0.002182\n",
       "86  Mercedes-Benz SLS    0.026189\n",
       "87       Škoda Citigo    0.016368\n",
       "88          Kia XCeed    0.003274\n",
       "89       Opel Mokka-e    0.004910\n",
       "\n",
       "[90 rows x 2 columns]"
      ]
     },
     "execution_count": 15,
     "metadata": {},
     "output_type": "execute_result"
    }
   ],
   "source": [
    "vehicleUsage_df=pd.DataFrame(vehicleUsage_dict)\n",
    "vehicleUsage_df"
   ]
  },
  {
   "cell_type": "code",
   "execution_count": 16,
   "metadata": {},
   "outputs": [
    {
     "data": {
      "text/html": [
       "<div>\n",
       "<style scoped>\n",
       "    .dataframe tbody tr th:only-of-type {\n",
       "        vertical-align: middle;\n",
       "    }\n",
       "\n",
       "    .dataframe tbody tr th {\n",
       "        vertical-align: top;\n",
       "    }\n",
       "\n",
       "    .dataframe thead th {\n",
       "        text-align: right;\n",
       "    }\n",
       "</style>\n",
       "<table border=\"1\" class=\"dataframe\">\n",
       "  <thead>\n",
       "    <tr style=\"text-align: right;\">\n",
       "      <th></th>\n",
       "      <th>name</th>\n",
       "      <th>percentage</th>\n",
       "    </tr>\n",
       "  </thead>\n",
       "  <tbody>\n",
       "    <tr>\n",
       "      <th>0</th>\n",
       "      <td>unknown</td>\n",
       "      <td>23.386912</td>\n",
       "    </tr>\n",
       "    <tr>\n",
       "      <th>1</th>\n",
       "      <td>Renault Kangoo</td>\n",
       "      <td>0.126581</td>\n",
       "    </tr>\n",
       "    <tr>\n",
       "      <th>2</th>\n",
       "      <td>Renault ZOE</td>\n",
       "      <td>8.044727</td>\n",
       "    </tr>\n",
       "    <tr>\n",
       "      <th>3</th>\n",
       "      <td>Tesla Model S</td>\n",
       "      <td>2.074746</td>\n",
       "    </tr>\n",
       "    <tr>\n",
       "      <th>4</th>\n",
       "      <td>Smart ED4 Forfour</td>\n",
       "      <td>0.718366</td>\n",
       "    </tr>\n",
       "  </tbody>\n",
       "</table>\n",
       "</div>"
      ],
      "text/plain": [
       "                name  percentage\n",
       "0            unknown   23.386912\n",
       "1     Renault Kangoo    0.126581\n",
       "2        Renault ZOE    8.044727\n",
       "3      Tesla Model S    2.074746\n",
       "4  Smart ED4 Forfour    0.718366"
      ]
     },
     "execution_count": 16,
     "metadata": {},
     "output_type": "execute_result"
    }
   ],
   "source": [
    "#change column 'name' to \"type-of-cars\" and \"percentaage\" to \"usage coefficient\"\n",
    "vehicleUsage_df.rename(columns={'name':'type-of-cars', 'percentage':'usage-coefficient'})\n",
    "vehicleUsage_df.head()"
   ]
  },
  {
   "cell_type": "code",
   "execution_count": 20,
   "metadata": {},
   "outputs": [
    {
     "ename": "KeyError",
     "evalue": "'usage_coefficient'",
     "output_type": "error",
     "traceback": [
      "\u001b[1;31m---------------------------------------------------------------------------\u001b[0m",
      "\u001b[1;31mKeyError\u001b[0m                                  Traceback (most recent call last)",
      "\u001b[1;32m<ipython-input-20-c84afefed0aa>\u001b[0m in \u001b[0;36m<module>\u001b[1;34m\u001b[0m\n\u001b[1;32m----> 1\u001b[1;33m \u001b[0mvehicleUsage_df\u001b[0m\u001b[1;33m.\u001b[0m\u001b[0msort_values\u001b[0m\u001b[1;33m(\u001b[0m\u001b[1;34m\"usage_coefficient\"\u001b[0m\u001b[1;33m,\u001b[0m \u001b[0mascending\u001b[0m\u001b[1;33m=\u001b[0m\u001b[1;32mFalse\u001b[0m\u001b[1;33m)\u001b[0m\u001b[1;33m.\u001b[0m\u001b[0mreset_index\u001b[0m\u001b[1;33m(\u001b[0m\u001b[0mdrop\u001b[0m\u001b[1;33m=\u001b[0m\u001b[1;32mTrue\u001b[0m\u001b[1;33m)\u001b[0m\u001b[1;33m\u001b[0m\u001b[1;33m\u001b[0m\u001b[0m\n\u001b[0m",
      "\u001b[1;32m~\\anaconda3\\lib\\site-packages\\pandas\\core\\frame.py\u001b[0m in \u001b[0;36msort_values\u001b[1;34m(self, by, axis, ascending, inplace, kind, na_position, ignore_index)\u001b[0m\n\u001b[0;32m   4925\u001b[0m \u001b[1;33m\u001b[0m\u001b[0m\n\u001b[0;32m   4926\u001b[0m             \u001b[0mby\u001b[0m \u001b[1;33m=\u001b[0m \u001b[0mby\u001b[0m\u001b[1;33m[\u001b[0m\u001b[1;36m0\u001b[0m\u001b[1;33m]\u001b[0m\u001b[1;33m\u001b[0m\u001b[1;33m\u001b[0m\u001b[0m\n\u001b[1;32m-> 4927\u001b[1;33m             \u001b[0mk\u001b[0m \u001b[1;33m=\u001b[0m \u001b[0mself\u001b[0m\u001b[1;33m.\u001b[0m\u001b[0m_get_label_or_level_values\u001b[0m\u001b[1;33m(\u001b[0m\u001b[0mby\u001b[0m\u001b[1;33m,\u001b[0m \u001b[0maxis\u001b[0m\u001b[1;33m=\u001b[0m\u001b[0maxis\u001b[0m\u001b[1;33m)\u001b[0m\u001b[1;33m\u001b[0m\u001b[1;33m\u001b[0m\u001b[0m\n\u001b[0m\u001b[0;32m   4928\u001b[0m \u001b[1;33m\u001b[0m\u001b[0m\n\u001b[0;32m   4929\u001b[0m             \u001b[1;32mif\u001b[0m \u001b[0misinstance\u001b[0m\u001b[1;33m(\u001b[0m\u001b[0mascending\u001b[0m\u001b[1;33m,\u001b[0m \u001b[1;33m(\u001b[0m\u001b[0mtuple\u001b[0m\u001b[1;33m,\u001b[0m \u001b[0mlist\u001b[0m\u001b[1;33m)\u001b[0m\u001b[1;33m)\u001b[0m\u001b[1;33m:\u001b[0m\u001b[1;33m\u001b[0m\u001b[1;33m\u001b[0m\u001b[0m\n",
      "\u001b[1;32m~\\anaconda3\\lib\\site-packages\\pandas\\core\\generic.py\u001b[0m in \u001b[0;36m_get_label_or_level_values\u001b[1;34m(self, key, axis)\u001b[0m\n\u001b[0;32m   1690\u001b[0m             \u001b[0mvalues\u001b[0m \u001b[1;33m=\u001b[0m \u001b[0mself\u001b[0m\u001b[1;33m.\u001b[0m\u001b[0maxes\u001b[0m\u001b[1;33m[\u001b[0m\u001b[0maxis\u001b[0m\u001b[1;33m]\u001b[0m\u001b[1;33m.\u001b[0m\u001b[0mget_level_values\u001b[0m\u001b[1;33m(\u001b[0m\u001b[0mkey\u001b[0m\u001b[1;33m)\u001b[0m\u001b[1;33m.\u001b[0m\u001b[0m_values\u001b[0m\u001b[1;33m\u001b[0m\u001b[1;33m\u001b[0m\u001b[0m\n\u001b[0;32m   1691\u001b[0m         \u001b[1;32melse\u001b[0m\u001b[1;33m:\u001b[0m\u001b[1;33m\u001b[0m\u001b[1;33m\u001b[0m\u001b[0m\n\u001b[1;32m-> 1692\u001b[1;33m             \u001b[1;32mraise\u001b[0m \u001b[0mKeyError\u001b[0m\u001b[1;33m(\u001b[0m\u001b[0mkey\u001b[0m\u001b[1;33m)\u001b[0m\u001b[1;33m\u001b[0m\u001b[1;33m\u001b[0m\u001b[0m\n\u001b[0m\u001b[0;32m   1693\u001b[0m \u001b[1;33m\u001b[0m\u001b[0m\n\u001b[0;32m   1694\u001b[0m         \u001b[1;31m# Check for duplicates\u001b[0m\u001b[1;33m\u001b[0m\u001b[1;33m\u001b[0m\u001b[1;33m\u001b[0m\u001b[0m\n",
      "\u001b[1;31mKeyError\u001b[0m: 'usage_coefficient'"
     ]
    }
   ],
   "source": [
    "vehicleUsage_df.sort_values(\"usage_coefficient\", ascending=False).reset_index(drop=True)"
   ]
  },
  {
   "cell_type": "code",
   "execution_count": 18,
   "metadata": {},
   "outputs": [],
   "source": [
    "#pickle\n",
    "vehicleUsage_df.to_pickle('vehicleUsage_pickle.pkl')"
   ]
  },
  {
   "cell_type": "markdown",
   "metadata": {},
   "source": [
    "## Chart vehicleUsage"
   ]
  },
  {
   "cell_type": "code",
   "execution_count": 21,
   "metadata": {},
   "outputs": [
    {
     "ename": "KeyError",
     "evalue": "'type-of-cars'",
     "output_type": "error",
     "traceback": [
      "\u001b[1;31m---------------------------------------------------------------------------\u001b[0m",
      "\u001b[1;31mKeyError\u001b[0m                                  Traceback (most recent call last)",
      "\u001b[1;32m~\\anaconda3\\lib\\site-packages\\pandas\\core\\indexes\\base.py\u001b[0m in \u001b[0;36mget_loc\u001b[1;34m(self, key, method, tolerance)\u001b[0m\n\u001b[0;32m   2645\u001b[0m             \u001b[1;32mtry\u001b[0m\u001b[1;33m:\u001b[0m\u001b[1;33m\u001b[0m\u001b[1;33m\u001b[0m\u001b[0m\n\u001b[1;32m-> 2646\u001b[1;33m                 \u001b[1;32mreturn\u001b[0m \u001b[0mself\u001b[0m\u001b[1;33m.\u001b[0m\u001b[0m_engine\u001b[0m\u001b[1;33m.\u001b[0m\u001b[0mget_loc\u001b[0m\u001b[1;33m(\u001b[0m\u001b[0mkey\u001b[0m\u001b[1;33m)\u001b[0m\u001b[1;33m\u001b[0m\u001b[1;33m\u001b[0m\u001b[0m\n\u001b[0m\u001b[0;32m   2647\u001b[0m             \u001b[1;32mexcept\u001b[0m \u001b[0mKeyError\u001b[0m\u001b[1;33m:\u001b[0m\u001b[1;33m\u001b[0m\u001b[1;33m\u001b[0m\u001b[0m\n",
      "\u001b[1;32mpandas\\_libs\\index.pyx\u001b[0m in \u001b[0;36mpandas._libs.index.IndexEngine.get_loc\u001b[1;34m()\u001b[0m\n",
      "\u001b[1;32mpandas\\_libs\\index.pyx\u001b[0m in \u001b[0;36mpandas._libs.index.IndexEngine.get_loc\u001b[1;34m()\u001b[0m\n",
      "\u001b[1;32mpandas\\_libs\\hashtable_class_helper.pxi\u001b[0m in \u001b[0;36mpandas._libs.hashtable.PyObjectHashTable.get_item\u001b[1;34m()\u001b[0m\n",
      "\u001b[1;32mpandas\\_libs\\hashtable_class_helper.pxi\u001b[0m in \u001b[0;36mpandas._libs.hashtable.PyObjectHashTable.get_item\u001b[1;34m()\u001b[0m\n",
      "\u001b[1;31mKeyError\u001b[0m: 'type-of-cars'",
      "\nDuring handling of the above exception, another exception occurred:\n",
      "\u001b[1;31mKeyError\u001b[0m                                  Traceback (most recent call last)",
      "\u001b[1;32m<ipython-input-21-bf9b2b8c4686>\u001b[0m in \u001b[0;36m<module>\u001b[1;34m\u001b[0m\n\u001b[0;32m      1\u001b[0m \u001b[0mfig\u001b[0m\u001b[1;33m,\u001b[0m \u001b[0max\u001b[0m \u001b[1;33m=\u001b[0m \u001b[0mplt\u001b[0m\u001b[1;33m.\u001b[0m\u001b[0msubplots\u001b[0m\u001b[1;33m(\u001b[0m\u001b[0mfigsize\u001b[0m\u001b[1;33m=\u001b[0m\u001b[1;33m(\u001b[0m\u001b[1;36m100\u001b[0m\u001b[1;33m,\u001b[0m\u001b[1;36m50\u001b[0m\u001b[1;33m)\u001b[0m\u001b[1;33m)\u001b[0m\u001b[1;33m\u001b[0m\u001b[1;33m\u001b[0m\u001b[0m\n\u001b[0;32m      2\u001b[0m \u001b[1;33m\u001b[0m\u001b[0m\n\u001b[1;32m----> 3\u001b[1;33m plt.barh(vehicleUsage_df[\"type-of-cars\"],\n\u001b[0m\u001b[0;32m      4\u001b[0m        \u001b[0mvehicleUsage_df\u001b[0m\u001b[1;33m[\u001b[0m\u001b[1;34m\"usage_coefficient\"\u001b[0m\u001b[1;33m]\u001b[0m\u001b[1;33m,\u001b[0m\u001b[1;33m\u001b[0m\u001b[1;33m\u001b[0m\u001b[0m\n\u001b[0;32m      5\u001b[0m        color = \"blue\");\n",
      "\u001b[1;32m~\\anaconda3\\lib\\site-packages\\pandas\\core\\frame.py\u001b[0m in \u001b[0;36m__getitem__\u001b[1;34m(self, key)\u001b[0m\n\u001b[0;32m   2798\u001b[0m             \u001b[1;32mif\u001b[0m \u001b[0mself\u001b[0m\u001b[1;33m.\u001b[0m\u001b[0mcolumns\u001b[0m\u001b[1;33m.\u001b[0m\u001b[0mnlevels\u001b[0m \u001b[1;33m>\u001b[0m \u001b[1;36m1\u001b[0m\u001b[1;33m:\u001b[0m\u001b[1;33m\u001b[0m\u001b[1;33m\u001b[0m\u001b[0m\n\u001b[0;32m   2799\u001b[0m                 \u001b[1;32mreturn\u001b[0m \u001b[0mself\u001b[0m\u001b[1;33m.\u001b[0m\u001b[0m_getitem_multilevel\u001b[0m\u001b[1;33m(\u001b[0m\u001b[0mkey\u001b[0m\u001b[1;33m)\u001b[0m\u001b[1;33m\u001b[0m\u001b[1;33m\u001b[0m\u001b[0m\n\u001b[1;32m-> 2800\u001b[1;33m             \u001b[0mindexer\u001b[0m \u001b[1;33m=\u001b[0m \u001b[0mself\u001b[0m\u001b[1;33m.\u001b[0m\u001b[0mcolumns\u001b[0m\u001b[1;33m.\u001b[0m\u001b[0mget_loc\u001b[0m\u001b[1;33m(\u001b[0m\u001b[0mkey\u001b[0m\u001b[1;33m)\u001b[0m\u001b[1;33m\u001b[0m\u001b[1;33m\u001b[0m\u001b[0m\n\u001b[0m\u001b[0;32m   2801\u001b[0m             \u001b[1;32mif\u001b[0m \u001b[0mis_integer\u001b[0m\u001b[1;33m(\u001b[0m\u001b[0mindexer\u001b[0m\u001b[1;33m)\u001b[0m\u001b[1;33m:\u001b[0m\u001b[1;33m\u001b[0m\u001b[1;33m\u001b[0m\u001b[0m\n\u001b[0;32m   2802\u001b[0m                 \u001b[0mindexer\u001b[0m \u001b[1;33m=\u001b[0m \u001b[1;33m[\u001b[0m\u001b[0mindexer\u001b[0m\u001b[1;33m]\u001b[0m\u001b[1;33m\u001b[0m\u001b[1;33m\u001b[0m\u001b[0m\n",
      "\u001b[1;32m~\\anaconda3\\lib\\site-packages\\pandas\\core\\indexes\\base.py\u001b[0m in \u001b[0;36mget_loc\u001b[1;34m(self, key, method, tolerance)\u001b[0m\n\u001b[0;32m   2646\u001b[0m                 \u001b[1;32mreturn\u001b[0m \u001b[0mself\u001b[0m\u001b[1;33m.\u001b[0m\u001b[0m_engine\u001b[0m\u001b[1;33m.\u001b[0m\u001b[0mget_loc\u001b[0m\u001b[1;33m(\u001b[0m\u001b[0mkey\u001b[0m\u001b[1;33m)\u001b[0m\u001b[1;33m\u001b[0m\u001b[1;33m\u001b[0m\u001b[0m\n\u001b[0;32m   2647\u001b[0m             \u001b[1;32mexcept\u001b[0m \u001b[0mKeyError\u001b[0m\u001b[1;33m:\u001b[0m\u001b[1;33m\u001b[0m\u001b[1;33m\u001b[0m\u001b[0m\n\u001b[1;32m-> 2648\u001b[1;33m                 \u001b[1;32mreturn\u001b[0m \u001b[0mself\u001b[0m\u001b[1;33m.\u001b[0m\u001b[0m_engine\u001b[0m\u001b[1;33m.\u001b[0m\u001b[0mget_loc\u001b[0m\u001b[1;33m(\u001b[0m\u001b[0mself\u001b[0m\u001b[1;33m.\u001b[0m\u001b[0m_maybe_cast_indexer\u001b[0m\u001b[1;33m(\u001b[0m\u001b[0mkey\u001b[0m\u001b[1;33m)\u001b[0m\u001b[1;33m)\u001b[0m\u001b[1;33m\u001b[0m\u001b[1;33m\u001b[0m\u001b[0m\n\u001b[0m\u001b[0;32m   2649\u001b[0m         \u001b[0mindexer\u001b[0m \u001b[1;33m=\u001b[0m \u001b[0mself\u001b[0m\u001b[1;33m.\u001b[0m\u001b[0mget_indexer\u001b[0m\u001b[1;33m(\u001b[0m\u001b[1;33m[\u001b[0m\u001b[0mkey\u001b[0m\u001b[1;33m]\u001b[0m\u001b[1;33m,\u001b[0m \u001b[0mmethod\u001b[0m\u001b[1;33m=\u001b[0m\u001b[0mmethod\u001b[0m\u001b[1;33m,\u001b[0m \u001b[0mtolerance\u001b[0m\u001b[1;33m=\u001b[0m\u001b[0mtolerance\u001b[0m\u001b[1;33m)\u001b[0m\u001b[1;33m\u001b[0m\u001b[1;33m\u001b[0m\u001b[0m\n\u001b[0;32m   2650\u001b[0m         \u001b[1;32mif\u001b[0m \u001b[0mindexer\u001b[0m\u001b[1;33m.\u001b[0m\u001b[0mndim\u001b[0m \u001b[1;33m>\u001b[0m \u001b[1;36m1\u001b[0m \u001b[1;32mor\u001b[0m \u001b[0mindexer\u001b[0m\u001b[1;33m.\u001b[0m\u001b[0msize\u001b[0m \u001b[1;33m>\u001b[0m \u001b[1;36m1\u001b[0m\u001b[1;33m:\u001b[0m\u001b[1;33m\u001b[0m\u001b[1;33m\u001b[0m\u001b[0m\n",
      "\u001b[1;32mpandas\\_libs\\index.pyx\u001b[0m in \u001b[0;36mpandas._libs.index.IndexEngine.get_loc\u001b[1;34m()\u001b[0m\n",
      "\u001b[1;32mpandas\\_libs\\index.pyx\u001b[0m in \u001b[0;36mpandas._libs.index.IndexEngine.get_loc\u001b[1;34m()\u001b[0m\n",
      "\u001b[1;32mpandas\\_libs\\hashtable_class_helper.pxi\u001b[0m in \u001b[0;36mpandas._libs.hashtable.PyObjectHashTable.get_item\u001b[1;34m()\u001b[0m\n",
      "\u001b[1;32mpandas\\_libs\\hashtable_class_helper.pxi\u001b[0m in \u001b[0;36mpandas._libs.hashtable.PyObjectHashTable.get_item\u001b[1;34m()\u001b[0m\n",
      "\u001b[1;31mKeyError\u001b[0m: 'type-of-cars'"
     ]
    },
    {
     "data": {
      "image/png": "[encoded data removed]",
      "text/plain": [
       "<Figure size 7200x3600 with 1 Axes>"
      ]
     },
     "metadata": {
      "needs_background": "light"
     },
     "output_type": "display_data"
    }
   ],
   "source": [
    "fig, ax = plt.subplots(figsize=(100,50))\n",
    "\n",
    "plt.barh(vehicleUsage_df[\"type-of-cars\"],\n",
    "       vehicleUsage_df[\"usage_coefficient\"],\n",
    "       color = \"blue\");"
   ]
  },
  {
   "cell_type": "code",
   "execution_count": null,
   "metadata": {},
   "outputs": [],
   "source": []
  }
 ],
 "metadata": {
  "kernelspec": {
   "display_name": "Python 3",
   "language": "python",
   "name": "python3"
  },
  "language_info": {
   "codemirror_mode": {
    "name": "ipython",
    "version": 3
   },
   "file_extension": ".py",
   "mimetype": "text/x-python",
   "name": "python",
   "nbconvert_exporter": "python",
   "pygments_lexer": "ipython3",
   "version": "3.7.6"
  }
 },
 "nbformat": 4,
 "nbformat_minor": 2
}

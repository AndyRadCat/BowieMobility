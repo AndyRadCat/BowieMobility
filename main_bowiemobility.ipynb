{
 "cells": [
  {
   "cell_type": "markdown",
   "metadata": {},
   "source": [
    "# BowieMobility - A data extraction and data visualization project about Germany's e-Mobility\n",
    "\n",
    "This notebook extracts and visualizes data regarding Germany's e-mobility sector (specifically cars) having in mind the following\n",
    "\n",
    "### 0.1. Research Questions\n",
    "\n",
    "* Does the amount of newly built charging points in Germany keep track with the rising number of electric vehicles over time?\n",
    "* Which interesting facts can be extracted from data of vehicle charging sessions, e.g. which car brand is charged the most?\n",
    "\n",
    "### 0.1. The data\n",
    "\n",
    "Thus, the following data were obtained:\n",
    "\n",
    "| Data description | source | data format |timespan | resulting dataframe in this notebook |\n",
    "|:-----------------|--------|-------------|---------|--------------------------------------|\n",
    "| Charging stations within Germany as of May 2020 | [Bundesnetzagentur](https://www.bundesnetzagentur.de/DE/Sachgebiete/ElektrizitaetundGas/Unternehmen_Institutionen/HandelundVertrieb/Ladesaeulenkarte/Ladesaeulenkarte_node.html) | `.xlsx` |2008 - 2020 | `df_ch_st` |\n",
    "| Number of yearly registered vehicles in Germany sorted by type of fuel (including electric) | [Kraftfahrtbundesamt](https://www.kba.de/DE/Statistik/Fahrzeuge/Neuzulassungen/Umwelt/n_umwelt_z.html) | `.html`-table | 2008 - 2018 | `df_reg_cars` |\n",
    "| Charging sessions for electric vehicles in Germany | [CIDS API](https://mclouddocs.plugsurfing.com/index.html) (coop between Germany Ministry of Traffic and Plugsurfing GmbH | API | 2020-05-18 - 2020-06-18 | `df_chr_ses` |\n",
    "\n",
    "All data which had to be downloaded are to be found in `./data`. The above mentioned dataframes are exported into `.pickle`-files, which are also stored there.\n"
   ]
  },
  {
   "cell_type": "markdown",
   "metadata": {},
   "source": [
    "## 1. Retrieving the data"
   ]
  },
  {
   "cell_type": "markdown",
   "metadata": {},
   "source": [
    "### 1.0. Importing necessary modules"
   ]
  },
  {
   "cell_type": "code",
   "execution_count": 1,
   "metadata": {},
   "outputs": [],
   "source": [
    "import pandas as pd\n",
    "import numpy as np\n",
    "import requests\n",
    "import json\n",
    "import matplotlib\n",
    "import matplotlib.pyplot as plt\n",
    "\n",
    "%matplotlib inline"
   ]
  },
  {
   "cell_type": "markdown",
   "metadata": {},
   "source": [
    "### 1.1. Obtaining the dataframe for the charging stations"
   ]
  },
  {
   "cell_type": "code",
   "execution_count": 2,
   "metadata": {},
   "outputs": [
    {
     "data": {
      "text/html": [
       "<div>\n",
       "<style scoped>\n",
       "    .dataframe tbody tr th:only-of-type {\n",
       "        vertical-align: middle;\n",
       "    }\n",
       "\n",
       "    .dataframe tbody tr th {\n",
       "        vertical-align: top;\n",
       "    }\n",
       "\n",
       "    .dataframe thead th {\n",
       "        text-align: right;\n",
       "    }\n",
       "</style>\n",
       "<table border=\"1\" class=\"dataframe\">\n",
       "  <thead>\n",
       "    <tr style=\"text-align: right;\">\n",
       "      <th></th>\n",
       "      <th>operator</th>\n",
       "      <th>address</th>\n",
       "      <th>city</th>\n",
       "      <th>zip-code</th>\n",
       "      <th>state</th>\n",
       "      <th>lat</th>\n",
       "      <th>lon</th>\n",
       "      <th>date_of_activation</th>\n",
       "      <th>charging_power</th>\n",
       "      <th>type_of_charger</th>\n",
       "      <th>no_of_chargingpoints</th>\n",
       "      <th>plugtype_1</th>\n",
       "      <th>P1 [kW]</th>\n",
       "      <th>plugtype_2</th>\n",
       "      <th>P2 [kW]</th>\n",
       "      <th>plugtype_3</th>\n",
       "      <th>P3 [kW]</th>\n",
       "      <th>plugtype_4</th>\n",
       "      <th>P4 [kW]</th>\n",
       "    </tr>\n",
       "  </thead>\n",
       "  <tbody>\n",
       "    <tr>\n",
       "      <th>0</th>\n",
       "      <td>DREWAG Stadtwerke Dresden GmbH</td>\n",
       "      <td>Ammonstraße 72</td>\n",
       "      <td>Dresden</td>\n",
       "      <td>01067</td>\n",
       "      <td>Sachsen</td>\n",
       "      <td>13.721480</td>\n",
       "      <td>51.048719</td>\n",
       "      <td>2019-11-26</td>\n",
       "      <td>175</td>\n",
       "      <td>fast charger</td>\n",
       "      <td>2</td>\n",
       "      <td>DC connector Combo, DC CHAdeMO</td>\n",
       "      <td>150</td>\n",
       "      <td>AC plug type 2</td>\n",
       "      <td>22</td>\n",
       "      <td>nan</td>\n",
       "      <td>NaN</td>\n",
       "      <td>nan</td>\n",
       "      <td>NaN</td>\n",
       "    </tr>\n",
       "    <tr>\n",
       "      <th>1</th>\n",
       "      <td>Autohaus Melkus GmbH</td>\n",
       "      <td>Hamburger Straße 30</td>\n",
       "      <td>Dresden</td>\n",
       "      <td>01067</td>\n",
       "      <td>Sachsen</td>\n",
       "      <td>13.698890</td>\n",
       "      <td>51.059870</td>\n",
       "      <td>2019-01-28</td>\n",
       "      <td>44</td>\n",
       "      <td>normal charger</td>\n",
       "      <td>2</td>\n",
       "      <td>AC plug type 2</td>\n",
       "      <td>22</td>\n",
       "      <td>AC plug type 2</td>\n",
       "      <td>22</td>\n",
       "      <td>nan</td>\n",
       "      <td>NaN</td>\n",
       "      <td>nan</td>\n",
       "      <td>NaN</td>\n",
       "    </tr>\n",
       "    <tr>\n",
       "      <th>2</th>\n",
       "      <td>DREWAG Stadtwerke Dresden GmbH</td>\n",
       "      <td>Magdeburger Straße 12</td>\n",
       "      <td>Dresden</td>\n",
       "      <td>01067</td>\n",
       "      <td>Sachsen</td>\n",
       "      <td>13.720513</td>\n",
       "      <td>51.062423</td>\n",
       "      <td>2019-11-18</td>\n",
       "      <td>33</td>\n",
       "      <td>normal charger</td>\n",
       "      <td>4</td>\n",
       "      <td>AC plug type 2</td>\n",
       "      <td>22</td>\n",
       "      <td>AC Schuko</td>\n",
       "      <td>3.7</td>\n",
       "      <td>AC plug type 2</td>\n",
       "      <td>22.0</td>\n",
       "      <td>AC Schuko</td>\n",
       "      <td>3.7</td>\n",
       "    </tr>\n",
       "    <tr>\n",
       "      <th>3</th>\n",
       "      <td>DREWAG Stadtwerke Dresden GmbH</td>\n",
       "      <td>Ringstraße 0</td>\n",
       "      <td>Dresden</td>\n",
       "      <td>01067</td>\n",
       "      <td>Sachsen</td>\n",
       "      <td>13.744003</td>\n",
       "      <td>51.048741</td>\n",
       "      <td>2018-10-30</td>\n",
       "      <td>150</td>\n",
       "      <td>fast charger</td>\n",
       "      <td>1</td>\n",
       "      <td>DC connector Combo, DC CHAdeMO</td>\n",
       "      <td>75</td>\n",
       "      <td>nan</td>\n",
       "      <td>NaN</td>\n",
       "      <td>nan</td>\n",
       "      <td>NaN</td>\n",
       "      <td>nan</td>\n",
       "      <td>NaN</td>\n",
       "    </tr>\n",
       "    <tr>\n",
       "      <th>4</th>\n",
       "      <td>DREWAG Stadtwerke Dresden GmbH</td>\n",
       "      <td>Ringstraße 0</td>\n",
       "      <td>Dresden</td>\n",
       "      <td>01067</td>\n",
       "      <td>Sachsen</td>\n",
       "      <td>13.743981</td>\n",
       "      <td>51.048716</td>\n",
       "      <td>2020-02-26</td>\n",
       "      <td>175</td>\n",
       "      <td>fast charger</td>\n",
       "      <td>2</td>\n",
       "      <td>DC connector Combo, DC CHAdeMO</td>\n",
       "      <td>150</td>\n",
       "      <td>AC plug type 2</td>\n",
       "      <td>22</td>\n",
       "      <td>nan</td>\n",
       "      <td>NaN</td>\n",
       "      <td>nan</td>\n",
       "      <td>NaN</td>\n",
       "    </tr>\n",
       "  </tbody>\n",
       "</table>\n",
       "</div>"
      ],
      "text/plain": [
       "                         operator                address     city zip-code  \\\n",
       "0  DREWAG Stadtwerke Dresden GmbH         Ammonstraße 72  Dresden    01067   \n",
       "1            Autohaus Melkus GmbH    Hamburger Straße 30  Dresden    01067   \n",
       "2  DREWAG Stadtwerke Dresden GmbH  Magdeburger Straße 12  Dresden    01067   \n",
       "3  DREWAG Stadtwerke Dresden GmbH           Ringstraße 0  Dresden    01067   \n",
       "4  DREWAG Stadtwerke Dresden GmbH           Ringstraße 0  Dresden    01067   \n",
       "\n",
       "     state        lat        lon date_of_activation charging_power  \\\n",
       "0  Sachsen  13.721480  51.048719         2019-11-26            175   \n",
       "1  Sachsen  13.698890  51.059870         2019-01-28             44   \n",
       "2  Sachsen  13.720513  51.062423         2019-11-18             33   \n",
       "3  Sachsen  13.744003  51.048741         2018-10-30            150   \n",
       "4  Sachsen  13.743981  51.048716         2020-02-26            175   \n",
       "\n",
       "  type_of_charger  no_of_chargingpoints                      plugtype_1  \\\n",
       "0    fast charger                     2  DC connector Combo, DC CHAdeMO   \n",
       "1  normal charger                     2                  AC plug type 2   \n",
       "2  normal charger                     4                  AC plug type 2   \n",
       "3    fast charger                     1  DC connector Combo, DC CHAdeMO   \n",
       "4    fast charger                     2  DC connector Combo, DC CHAdeMO   \n",
       "\n",
       "  P1 [kW]      plugtype_2 P2 [kW]      plugtype_3  P3 [kW] plugtype_4  P4 [kW]  \n",
       "0     150  AC plug type 2      22             nan      NaN        nan      NaN  \n",
       "1      22  AC plug type 2      22             nan      NaN        nan      NaN  \n",
       "2      22       AC Schuko     3.7  AC plug type 2     22.0  AC Schuko      3.7  \n",
       "3      75             nan     NaN             nan      NaN        nan      NaN  \n",
       "4     150  AC plug type 2      22             nan      NaN        nan      NaN  "
      ]
     },
     "execution_count": 2,
     "metadata": {},
     "output_type": "execute_result"
    }
   ],
   "source": [
    "\n",
    "df = pd.read_excel('./data/charging_stations.xlsx', skiprows=5)\n",
    "\n",
    "# Dropping key columns. They might be important later though, when joining with other df's along a unique identifier\n",
    "df.drop(['Public Key1', 'Public Key2', 'Public Key3', 'Public Key4'], axis =1, inplace = True)\n",
    "\n",
    "# Renaming (translating) column names\n",
    "df.rename(columns = {'Betreiber': 'operator',\n",
    "                     'Adresse' : 'address',\n",
    "                     'Postleitzahl Ort' : 'zip-code',\n",
    "                     'Bundesland' : 'state',\n",
    "                     'Längengrad [DG]' : 'lat',\n",
    "                     'Breitengrad [DG]' : 'lon',\n",
    "                     'Inbetriebnahmedatum' : 'date_of_activation',\n",
    "                     'Anschlussleistung [kW]' : 'charging_power',\n",
    "                     'Art der Ladeeinrichtung' : 'type_of_charger',\n",
    "                     'Anzahl Ladepunkte' : 'no_of_chargingpoints',\n",
    "                     'Steckertypen1' : 'plugtype_1',\n",
    "                     'Steckertypen2' : 'plugtype_2',\n",
    "                     'Steckertypen3' : 'plugtype_3',\n",
    "                     'Steckertypen4' : 'plugtype_4',\n",
    "                    },\n",
    "          inplace=True,            \n",
    "         )\n",
    "\n",
    "# Translating German words within the columns, thereby creating a dictionary first\n",
    "trans_dict = {'Schnellladeeinrichtung' : 'fast charger',\n",
    "             'Normalladeeinrichtung' : 'normal charger',\n",
    "              'Steckdose' : 'plug',\n",
    "              'Typ' : 'type',\n",
    "              'Kupplung' : 'connector'\n",
    "             }\n",
    "\n",
    "df['type_of_charger'] = df['type_of_charger'].apply(lambda x : trans_dict[x])\n",
    "\n",
    "def translator(x, trans_dict):\n",
    "    x = str(x)\n",
    "    if not x == np.nan:\n",
    "        for k, v in trans_dict.items():\n",
    "            if k in x:\n",
    "                x = x.replace(k, v)\n",
    "    return x\n",
    "\n",
    "df['plugtype_1'] = df['plugtype_1'].apply(lambda x : translator(x, trans_dict))\n",
    "df['plugtype_2'] = df['plugtype_2'].apply(lambda x : translator(x, trans_dict))\n",
    "df['plugtype_3'] = df['plugtype_3'].apply(lambda x : translator(x, trans_dict))\n",
    "df['plugtype_4'] = df['plugtype_4'].apply(lambda x : translator(x, trans_dict))\n",
    "\n",
    "# Splitting the city column into two, containing the zip-code AND the city respectively\n",
    "df['city'] = df['zip-code'].apply(lambda x : \" \".join(x.split()[1:]))\n",
    "df['zip-code'] = df['zip-code'].apply(lambda x :''.join(x.split()[:1]))\n",
    "\n",
    "# Rearranging the order of columns, place 'city' column at 4th position\n",
    "cols = df.columns.tolist()\n",
    "cols = cols[0:2] + cols[-1:] + cols[2:-1]\n",
    "df = df[cols]\n",
    "\n",
    "# Store dataframe in another with appropriate variable name\n",
    "df_ch_st = df\n",
    "\n",
    "# Export dataframe to pickle\n",
    "df_ch_st.to_pickle('./data/df_ch_st.pkl')\n",
    "\n",
    "# Look at finished dataframe\n",
    "df_ch_st.head(5)"
   ]
  },
  {
   "cell_type": "markdown",
   "metadata": {},
   "source": [
    "### 1.2. Obtaining the dataframe for the yearly newly registered vehicles (including electric)"
   ]
  },
  {
   "cell_type": "code",
   "execution_count": 3,
   "metadata": {},
   "outputs": [
    {
     "data": {
      "text/html": [
       "<div>\n",
       "<style scoped>\n",
       "    .dataframe tbody tr th:only-of-type {\n",
       "        vertical-align: middle;\n",
       "    }\n",
       "\n",
       "    .dataframe tbody tr th {\n",
       "        vertical-align: top;\n",
       "    }\n",
       "\n",
       "    .dataframe thead th {\n",
       "        text-align: right;\n",
       "    }\n",
       "</style>\n",
       "<table border=\"1\" class=\"dataframe\">\n",
       "  <thead>\n",
       "    <tr style=\"text-align: right;\">\n",
       "      <th></th>\n",
       "      <th>year</th>\n",
       "      <th>gasoline</th>\n",
       "      <th>diesel</th>\n",
       "      <th>liquid_gas</th>\n",
       "      <th>natural_gas</th>\n",
       "      <th>electric</th>\n",
       "      <th>hybrid_total</th>\n",
       "      <th>plug_in_of_hybrid</th>\n",
       "      <th>total</th>\n",
       "    </tr>\n",
       "  </thead>\n",
       "  <tbody>\n",
       "    <tr>\n",
       "      <th>0</th>\n",
       "      <td>2009-01-01</td>\n",
       "      <td>2608767</td>\n",
       "      <td>1168633</td>\n",
       "      <td>11083</td>\n",
       "      <td>10062</td>\n",
       "      <td>162</td>\n",
       "      <td>8374</td>\n",
       "      <td>NaN</td>\n",
       "      <td>3807175</td>\n",
       "    </tr>\n",
       "    <tr>\n",
       "      <th>1</th>\n",
       "      <td>2010-01-01</td>\n",
       "      <td>1669927</td>\n",
       "      <td>1221938</td>\n",
       "      <td>8154</td>\n",
       "      <td>4982</td>\n",
       "      <td>541</td>\n",
       "      <td>10661</td>\n",
       "      <td>NaN</td>\n",
       "      <td>2916260</td>\n",
       "    </tr>\n",
       "    <tr>\n",
       "      <th>2</th>\n",
       "      <td>2011-01-01</td>\n",
       "      <td>1651637</td>\n",
       "      <td>1495966</td>\n",
       "      <td>4873</td>\n",
       "      <td>6283</td>\n",
       "      <td>2154</td>\n",
       "      <td>12622</td>\n",
       "      <td>NaN</td>\n",
       "      <td>3173634</td>\n",
       "    </tr>\n",
       "    <tr>\n",
       "      <th>3</th>\n",
       "      <td>2012-01-01</td>\n",
       "      <td>1555241</td>\n",
       "      <td>1486119</td>\n",
       "      <td>11465</td>\n",
       "      <td>5215</td>\n",
       "      <td>2956</td>\n",
       "      <td>21438</td>\n",
       "      <td>408.0</td>\n",
       "      <td>3082504</td>\n",
       "    </tr>\n",
       "    <tr>\n",
       "      <th>4</th>\n",
       "      <td>2013-01-01</td>\n",
       "      <td>1502784</td>\n",
       "      <td>1403113</td>\n",
       "      <td>6257</td>\n",
       "      <td>7835</td>\n",
       "      <td>6051</td>\n",
       "      <td>26348</td>\n",
       "      <td>1385.0</td>\n",
       "      <td>2952431</td>\n",
       "    </tr>\n",
       "  </tbody>\n",
       "</table>\n",
       "</div>"
      ],
      "text/plain": [
       "        year  gasoline   diesel  liquid_gas  natural_gas  electric  \\\n",
       "0 2009-01-01   2608767  1168633       11083        10062       162   \n",
       "1 2010-01-01   1669927  1221938        8154         4982       541   \n",
       "2 2011-01-01   1651637  1495966        4873         6283      2154   \n",
       "3 2012-01-01   1555241  1486119       11465         5215      2956   \n",
       "4 2013-01-01   1502784  1403113        6257         7835      6051   \n",
       "\n",
       "   hybrid_total  plug_in_of_hybrid    total  \n",
       "0          8374                NaN  3807175  \n",
       "1         10661                NaN  2916260  \n",
       "2         12622                NaN  3173634  \n",
       "3         21438              408.0  3082504  \n",
       "4         26348             1385.0  2952431  "
      ]
     },
     "execution_count": 3,
     "metadata": {},
     "output_type": "execute_result"
    }
   ],
   "source": [
    "# URL from Kraftfahrtbundesamt\n",
    "url=\"https://www.kba.de/DE/Statistik/Fahrzeuge/Neuzulassungen/Umwelt/n_umwelt_z.html\"\n",
    "\n",
    "r = requests.get(url)\n",
    "\n",
    "# Read html-table into df, thereby converting dot-seperated thousands and comma-seperated decimals\n",
    "df_list = pd.read_html(r.text,\n",
    "                       decimal=',',\n",
    "                       thousands='.',\n",
    "                      )\n",
    "df = pd.DataFrame(df_list[0])\n",
    "\n",
    "# Convert Year column into datetime format\n",
    "df['Jahr'] = pd.to_datetime(df['Jahr'], format=\"%Y\")\n",
    "\n",
    "# Translating German column names to English\n",
    "col_names = df.columns.to_list()\n",
    "engl_cols = ['year',\n",
    "             'gasoline',\n",
    "             'diesel',\n",
    "             'liquid_gas',\n",
    "             'natural_gas',\n",
    "             'electric',\n",
    "             'hybrid_total',\n",
    "             'plug_in_of_hybrid',\n",
    "             'total',\n",
    "            ]\n",
    "\n",
    "df= df.rename(columns={k:v for k,v in zip(col_names,engl_cols)})\n",
    "\n",
    "# Setting '-' entries in plug-in-hybrid column to NaN\n",
    "df['plug_in_of_hybrid'] = df['plug_in_of_hybrid'].apply(lambda x: int(x) if x.isnumeric() else np.nan)\n",
    "\n",
    "# Store dataframe in another with appropriate variable name\n",
    "df_reg_cars = df\n",
    "\n",
    "# Export dataframe to pickle\n",
    "df_reg_cars.to_pickle('./data/df_reg_cars.pkl')\n",
    "\n",
    "# Look at finished dataframe\n",
    "df_reg_cars.head(5)"
   ]
  },
  {
   "cell_type": "markdown",
   "metadata": {},
   "source": [
    "### 1.3. Obtaining the dataframe for electric vehicle charging sessions\n",
    "\n",
    "Get the stations:"
   ]
  },
  {
   "cell_type": "code",
   "execution_count": 4,
   "metadata": {},
   "outputs": [],
   "source": [
    "api_url = \"https://api.plugsurfing.com/mfund/stations\"\n",
    "\n",
    "# Sending request to API\n",
    "response = requests.get(api_url)\n",
    "results = response.json()\n",
    "df = pd.DataFrame(results)\n",
    "\n",
    "connectors_into_df = pd.concat([pd.DataFrame(x) for x in df['connectors']], keys=df[:]).reset_index(level=1, drop=True).reset_index()\n",
    "\n",
    "connectors_list = connectors_into_df.values.tolist()"
   ]
  },
  {
   "cell_type": "markdown",
   "metadata": {},
   "source": [
    "Get the sessions:"
   ]
  },
  {
   "cell_type": "markdown",
   "metadata": {},
   "source": [
    "### Extracting 'vehicleUsage_df' from 'sessions' API "
   ]
  },
  {
   "cell_type": "code",
   "execution_count": 5,
   "metadata": {},
   "outputs": [
    {
     "data": {
      "text/html": [
       "<div>\n",
       "<style scoped>\n",
       "    .dataframe tbody tr th:only-of-type {\n",
       "        vertical-align: middle;\n",
       "    }\n",
       "\n",
       "    .dataframe tbody tr th {\n",
       "        vertical-align: top;\n",
       "    }\n",
       "\n",
       "    .dataframe thead th {\n",
       "        text-align: right;\n",
       "    }\n",
       "</style>\n",
       "<table border=\"1\" class=\"dataframe\">\n",
       "  <thead>\n",
       "    <tr style=\"text-align: right;\">\n",
       "      <th></th>\n",
       "      <th>type-of-cars</th>\n",
       "      <th>usage-coefficient</th>\n",
       "    </tr>\n",
       "  </thead>\n",
       "  <tbody>\n",
       "    <tr>\n",
       "      <th>0</th>\n",
       "      <td>unknown</td>\n",
       "      <td>23.404118</td>\n",
       "    </tr>\n",
       "    <tr>\n",
       "      <th>1</th>\n",
       "      <td>Renault Kangoo</td>\n",
       "      <td>0.127821</td>\n",
       "    </tr>\n",
       "    <tr>\n",
       "      <th>2</th>\n",
       "      <td>Renault ZOE</td>\n",
       "      <td>7.959020</td>\n",
       "    </tr>\n",
       "    <tr>\n",
       "      <th>3</th>\n",
       "      <td>Tesla Model S</td>\n",
       "      <td>2.098968</td>\n",
       "    </tr>\n",
       "    <tr>\n",
       "      <th>4</th>\n",
       "      <td>Smart ED4 Forfour</td>\n",
       "      <td>0.716783</td>\n",
       "    </tr>\n",
       "  </tbody>\n",
       "</table>\n",
       "</div>"
      ],
      "text/plain": [
       "        type-of-cars  usage-coefficient\n",
       "0            unknown          23.404118\n",
       "1     Renault Kangoo           0.127821\n",
       "2        Renault ZOE           7.959020\n",
       "3      Tesla Model S           2.098968\n",
       "4  Smart ED4 Forfour           0.716783"
      ]
     },
     "execution_count": 5,
     "metadata": {},
     "output_type": "execute_result"
    }
   ],
   "source": [
    "response = requests.get(\"https://api.plugsurfing.com/mfund/sessions\")\n",
    "sessions_data=response.json()\n",
    "\n",
    "vehicleUsage_dict = sessions_data['vehicleUsage']\n",
    "\n",
    "vehicleUsage_df=pd.DataFrame(vehicleUsage_dict)\n",
    "\n",
    "#change column 'name' to \"type-of-cars\" and \"percentage\" to \"usage-coefficient\"\n",
    "vehicleUsage_df = vehicleUsage_df.rename(columns={'name':'type-of-cars', 'percentage':'usage-coefficient'})\n",
    "\n",
    "vehicleUsage_df.sort_values(\"usage-coefficient\", ascending=False).reset_index(drop=True)\n",
    "\n",
    "# Store dataframe in another with appropriate variable name\n",
    "df_chr_st = vehicleUsage_df\n",
    "\n",
    "# Export dataframe to pickle\n",
    "df_chr_st.to_pickle('./data/df_chr_st.pkl')\n",
    "\n",
    "# Look at finished dataframe\n",
    "df_chr_st.head(5)"
   ]
  },
  {
   "cell_type": "markdown",
   "metadata": {},
   "source": [
    "## 2. Plotting"
   ]
  },
  {
   "cell_type": "markdown",
   "metadata": {},
   "source": [
    "### 2.1. Plotting the most charged vehicles, using the sessions dataset\n",
    "\n",
    "For the charging sessions data set, let's visualize which car brand charges the most, that is, whose car brands' cars are charged the most"
   ]
  },
  {
   "cell_type": "code",
   "execution_count": 6,
   "metadata": {},
   "outputs": [
    {
     "data": {
      "image/png": "[encoded data removed]",
      "text/plain": [
       "<Figure size 1440x576 with 1 Axes>"
      ]
     },
     "metadata": {
      "needs_background": "light"
     },
     "output_type": "display_data"
    }
   ],
   "source": [
    "fig, ax = plt.subplots(figsize=(20,8))\n",
    "plt.bar(df_chr_st.sort_values('usage-coefficient', ascending=False)[\"type-of-cars\"],\n",
    "        df_chr_st.sort_values('usage-coefficient', ascending=False)[\"usage-coefficient\"],\n",
    "        color = \"blue\",\n",
    "       )\n",
    "ax.tick_params(axis='x', labelrotation=90)\n",
    "ax.grid(axis='y')"
   ]
  },
  {
   "cell_type": "markdown",
   "metadata": {},
   "source": [
    "### 2.2. Plotting the time curves for electric vehicles and charging stations over the years\n",
    "\n",
    "Now, we first have to gather the number of charging stations as well as the number of vehicles each summed up over every year. Both in a normal way (which represents the yearly *growth*) as well as accumulated over the years. Later, we will plot each pair of these in one diagram."
   ]
  },
  {
   "cell_type": "code",
   "execution_count": 7,
   "metadata": {},
   "outputs": [],
   "source": [
    "# Dataframe of cummulative charging points over the years from 2008 until 2020\n",
    "df_cumsum_ch_pts = df_ch_st.groupby(df_ch_st.date_of_activation.dt.year).agg('sum').cumsum()[['no_of_chargingpoints']]\n",
    "df_cumsum_ch_pts.reset_index(level=0, inplace=True)\n",
    "df_cumsum_ch_pts['date_of_activation'] = pd.to_datetime(df_cumsum_ch_pts['date_of_activation'], format=\"%Y\")"
   ]
  },
  {
   "cell_type": "code",
   "execution_count": 8,
   "metadata": {},
   "outputs": [],
   "source": [
    "# Dataframe of newly yearly build charging points\n",
    "df_growth_ch_pts = df_ch_st.groupby(df_ch_st.date_of_activation.dt.year).agg('sum')[['no_of_chargingpoints']]\n",
    "df_growth_ch_pts.reset_index(level=0, inplace=True)\n",
    "df_growth_ch_pts['date_of_activation'] = pd.to_datetime(df_growth_ch_pts['date_of_activation'], format=\"%Y\")"
   ]
  },
  {
   "cell_type": "code",
   "execution_count": 9,
   "metadata": {},
   "outputs": [],
   "source": [
    "# Df of accumulated yearly registered e-vehicles\n",
    "df_cumsum_veh = df_reg_cars[['electric']].cumsum()\n",
    "df_cumsum_veh['year'] = df_reg_cars['year']"
   ]
  },
  {
   "cell_type": "code",
   "execution_count": 10,
   "metadata": {},
   "outputs": [],
   "source": [
    "# Dataframe of newly yearly registered e-vehicles\n",
    "df_growth_veh = df_reg_cars[['year','electric']]"
   ]
  },
  {
   "cell_type": "markdown",
   "metadata": {},
   "source": [
    "Plotting:"
   ]
  },
  {
   "cell_type": "code",
   "execution_count": 11,
   "metadata": {},
   "outputs": [
    {
     "data": {
      "text/plain": [
       "Text(0, 0.5, 'Count')"
      ]
     },
     "execution_count": 11,
     "metadata": {},
     "output_type": "execute_result"
    },
    {
     "data": {
      "image/png": "[encoded data removed]",
      "text/plain": [
       "<Figure size 720x288 with 1 Axes>"
      ]
     },
     "metadata": {
      "needs_background": "light"
     },
     "output_type": "display_data"
    }
   ],
   "source": [
    "fig1, ax1 = plt.subplots(figsize=(10,4))\n",
    "df_cumsum_veh.plot(x='year',\n",
    "                   y='electric',\n",
    "                   ax=ax1,\n",
    "                   color='blue'\n",
    "                  )\n",
    "df_cumsum_ch_pts.plot(x='date_of_activation',\n",
    "                      y='no_of_chargingpoints',\n",
    "                      ax=ax1,\n",
    "                      color='black'\n",
    "                     )\n",
    "ax1.legend(['Accumulated electric vehicles', 'Accumulated charging points'])\n",
    "ax1.set_xlabel('Year')\n",
    "ax1.set_ylabel('Count')"
   ]
  },
  {
   "cell_type": "code",
   "execution_count": 12,
   "metadata": {},
   "outputs": [
    {
     "data": {
      "text/plain": [
       "Text(0, 0.5, 'Count')"
      ]
     },
     "execution_count": 12,
     "metadata": {},
     "output_type": "execute_result"
    },
    {
     "data": {
      "image/png": "[encoded data removed]",
      "text/plain": [
       "<Figure size 720x288 with 1 Axes>"
      ]
     },
     "metadata": {
      "needs_background": "light"
     },
     "output_type": "display_data"
    }
   ],
   "source": [
    "fig1, ax1 = plt.subplots(figsize=(10,4))\n",
    "df_growth_veh.plot(x='year',\n",
    "                   y='electric',\n",
    "                   ax=ax1,\n",
    "                   color='blue'\n",
    "                  )\n",
    "df_growth_ch_pts.plot(x='date_of_activation',\n",
    "                      y='no_of_chargingpoints',\n",
    "                      ax=ax1,\n",
    "                      color='black'\n",
    "                     )\n",
    "ax1.legend(['Yearly new electric vehicles', 'Yearly new charging points'])\n",
    "ax1.set_xlabel('Year')\n",
    "ax1.set_ylabel('Count')"
   ]
  },
  {
   "cell_type": "markdown",
   "metadata": {},
   "source": [
    "# 3.0 Limitations and conclusions\n",
    "\n",
    "It is necessary to mention a few things about the data before conclusions from these plots can be made:\n",
    "\n",
    "* The charging stations data only include those registered at the *Bundesnetzagentur* and only of those operators, who have finished the registering process and have agreed on having their station published in that database. A growing number of users of electric cars are known to charge their vehicles using a private charger, which is not listed in that database.\n",
    "* The accumulated values both for cars as well as the charging stations don't take into account possible decommissioning of both. We assume though, that the share for decommissioned cars and chargers among all cars and chargers remain in low percentage numbers over only a timespan of 10 years.\n",
    "* To our knowledge, the sessions data span only over the last 30 days. We can not make an informed statement about which car is charged in which timespan of the year and/or if there's any correlation between these two values. This is the reason, why wouldn't want the above plot to be understood as a general statement about \"the most charged cars over a year\"\n",
    "\n",
    "Nevertheless, regarding the research question mentioned under **0.1.** it can be said, that the data indicate, that the growth of registered electric vehicles in Germany is faster than the building of open accessible charging stations and could pose a problem in the future to provide the necessary charging infrastructure for the growing demand of electric vehicles. This observation is in line with reports in [German media](https://www.dw.com/en/german-e-cars-still-hampered-by-lack-of-charging-stations/a-45245116)"
   ]
  },
  {
   "cell_type": "markdown",
   "metadata": {},
   "source": [
    "# 4.0 Possible further questions and improvements"
   ]
  },
  {
   "cell_type": "markdown",
   "metadata": {},
   "source": [
    "The dataframe `df_ch_st` contains several more important data that could reveal interesting insights, such as\n",
    "* the temporal development of the numbers of charges per charging station\n",
    "* the temporal development of the chargers for each German state\n",
    "* the temporal development of the average charging power per each charging station\n",
    "\n",
    "Also, the dataframe `df_reg_cars`, whose data only reach up until 2018, could be enriched by more data up until the present month, which are also availabe on the page of the Kraftfahrtbundesamt (with montly resolution). This will fill the 2 year gap in the plots between 2018 and 2020."
   ]
  }
 ],
 "metadata": {
  "kernelspec": {
   "display_name": "Python 3",
   "language": "python",
   "name": "python3"
  },
  "language_info": {
   "codemirror_mode": {
    "name": "ipython",
    "version": 3
   },
   "file_extension": ".py",
   "mimetype": "text/x-python",
   "name": "python",
   "nbconvert_exporter": "python",
   "pygments_lexer": "ipython3",
   "version": "3.8.3"
  }
 },
 "nbformat": 4,
 "nbformat_minor": 4
}

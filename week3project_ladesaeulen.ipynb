{
 "cells": [
  {
   "cell_type": "code",
   "execution_count": null,
   "metadata": {},
   "outputs": [],
   "source": [
    "import pandas as pd\n",
    "import numpy as np\n"
   ]
  },
  {
   "cell_type": "code",
   "execution_count": null,
   "metadata": {},
   "outputs": [],
   "source": [
    "df = pd.read_excel('Ladesaeulenkarte_Datenbankauszug31.xlsx', skiprows=5)\n",
    "df.drop(['Public Key1', 'Public Key2', 'Public Key3', 'Public Key4'], axis =1, inplace = True)\n",
    "df.rename(columns = {'Betreiber': 'operator',\n",
    "                     'Adresse' : 'address',\n",
    "                     'Postleitzahl Ort' : 'zip-code',\n",
    "                     'Bundesland' : 'state',\n",
    "                     'Längengrad [DG]' : 'lat',\n",
    "                     'Breitengrad [DG]' : 'lon',\n",
    "                     'Inbetriebnahmedatum' : 'date_of_activation',\n",
    "                     'Anschlussleistung [kW]' : 'charging_power',\n",
    "                     'Art der Ladeeinrichtung' : 'type_of_charger',\n",
    "                     'Anzahl Ladepunkte' : 'no_of_chargingpoints',\n",
    "                     'Steckertypen1' : 'plugtype_1',\n",
    "                     'Steckertypen2' : 'plugtype_2',\n",
    "                     'Steckertypen3' : 'plugtype_3',\n",
    "                     'Steckertypen4' : 'plugtype_4',\n",
    "                    },\n",
    "          inplace=True,            \n",
    "         )\n",
    "trans_dict = {'Schnellladeeinrichtung' : 'fast charger',\n",
    "             'Normalladeeinrichtung' : 'normal charger',\n",
    "              'Steckdose' : 'plug',\n",
    "              'Typ' : 'type',\n",
    "              'Kupplung' : 'connector'\n",
    "             }\n",
    "\n",
    "df['type_of_charger'] = df['type_of_charger'].apply(lambda x : trans_dict[x])\n",
    "#df[['plugtype_1', 'plugtype_2', 'plugtype_3', 'plugtype_4']] = df[['plugtype_1',\n",
    "#                                                                   'plugtype_2',\n",
    "#                                                                   'plugtype_3',\n",
    "#                                                                   'plugtype_4']].apply(lambda x : translator(x, trans_dict))\n",
    "\n",
    "def translator(x, trans_dict):\n",
    "    x = str(x)\n",
    "    if not x == np.nan:\n",
    "        for k, v in trans_dict.items():\n",
    "            if k in x:\n",
    "                x = x.replace(k, v)\n",
    "    return x\n",
    "\n",
    "df['plugtype_1'] = df['plugtype_1'].apply(lambda x : translator(x, trans_dict))\n",
    "df['plugtype_2'] = df['plugtype_2'].apply(lambda x : translator(x, trans_dict))\n",
    "df['plugtype_3'] = df['plugtype_3'].apply(lambda x : translator(x, trans_dict))\n",
    "df['plugtype_4'] = df['plugtype_4'].apply(lambda x : translator(x, trans_dict))\n",
    "\n",
    "df['city'] = df['zip-code'].apply(lambda x : \" \".join(x.split()[1:]))\n",
    "df['zip-code'] = df['zip-code'].apply(lambda x :''.join(x.split()[:1]))\n",
    "\n",
    "cols = df.columns.tolist()\n",
    "cols = cols[0:2] + cols[-1:] + cols[2:-1]\n",
    "df = df[cols]\n",
    "df.to_pickle('df_ladesaeulen.pkl')\n",
    "\n",
    "\n",
    "df.head(10)"
   ]
  },
  {
   "cell_type": "code",
   "execution_count": null,
   "metadata": {},
   "outputs": [],
   "source": [
    "df['type_of_charger'].hist()"
   ]
  },
  {
   "cell_type": "code",
   "execution_count": null,
   "metadata": {},
   "outputs": [],
   "source": [
    "import matplotlib.pyplot as plt\n",
    "plt.plot(df.groupby('date_of_activation').sum())"
   ]
  },
  {
   "cell_type": "code",
   "execution_count": null,
   "metadata": {},
   "outputs": [],
   "source": [
    "df_state = df.groupby('state').sum().sort_values(by = 'no_of_chargingpoints', ascending=False)\n",
    "df_state['state'] = df_state.index.to_series()\n",
    "df_state.plot('state',\n",
    "              'no_of_chargingpoints',\n",
    "              rot = 90,\n",
    "              figsize = (14,6),\n",
    "              kind ='bar',\n",
    "              color =[np.random.rand(3,) for x in range(16)],\n",
    "             )\n",
    "#df_state.reset_index()\n",
    "\n",
    "#barlist=plt.bar([1,2,3,4], [1,2,3,4])\n",
    "#barlist[0].set_color('r')\n",
    "#plt.show()"
   ]
  }
 ],
 "metadata": {
  "kernelspec": {
   "display_name": "Python 3",
   "language": "python",
   "name": "python3"
  },
  "language_info": {
   "codemirror_mode": {
    "name": "ipython",
    "version": 3
   },
   "file_extension": ".py",
   "mimetype": "text/x-python",
   "name": "python",
   "nbconvert_exporter": "python",
   "pygments_lexer": "ipython3",
   "version": "3.8.1"
  }
 },
 "nbformat": 4,
 "nbformat_minor": 4
}
